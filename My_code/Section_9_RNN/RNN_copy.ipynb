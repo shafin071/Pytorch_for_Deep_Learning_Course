{
 "cells": [
  {
   "cell_type": "markdown",
   "metadata": {
    "collapsed": true
   },
   "source": [
    "<img src=\"../Pierian-Data-Logo.PNG\">\n",
    "<br>\n",
    "<strong><center>Copyright 2019. Created by Jose Marcial Portilla.</center></strong>"
   ]
  },
  {
   "cell_type": "markdown",
   "metadata": {},
   "source": [
    "# RNN on a Time Series\n",
    "For these examples we're using data from the Federal Reserve Economic Database (FRED) concerning Sales of Beer, Wine, and Distilled Alcoholic Beverages in millions of dollars from January 1992 to January 2019 (325 records).\n",
    "\n",
    "Data source: https://fred.stlouisfed.org/series/S4248SM144NCEN"
   ]
  },
  {
   "cell_type": "markdown",
   "metadata": {},
   "source": [
    "## Perform standard imports"
   ]
  },
  {
   "cell_type": "code",
   "execution_count": 1,
   "metadata": {},
   "outputs": [],
   "source": [
    "import torch\n",
    "import torch.nn as nn\n",
    "\n",
    "import numpy as np\n",
    "import pandas as pd\n",
    "import matplotlib.pyplot as plt\n",
    "%matplotlib inline\n",
    "\n",
    "# This relates to plotting datetime values with matplotlib:\n",
    "from pandas.plotting import register_matplotlib_converters\n",
    "register_matplotlib_converters()"
   ]
  },
  {
   "cell_type": "markdown",
   "metadata": {},
   "source": [
    "## Load the dataset\n",
    "We'll take advantage of pandas' built-in <a href='https://pandas.pydata.org/pandas-docs/stable/timeseries.html'>DatetimeIndex</a> by passing <tt>parse_dates=True</tt>"
   ]
  },
  {
   "cell_type": "code",
   "execution_count": 2,
   "metadata": {},
   "outputs": [
    {
     "data": {
      "text/plain": [
       "340"
      ]
     },
     "execution_count": 2,
     "metadata": {},
     "output_type": "execute_result"
    }
   ],
   "source": [
    "df = pd.read_csv('../Data/Alchohol_Sales.csv',index_col=0,parse_dates=True)\n",
    "len(df)"
   ]
  },
  {
   "cell_type": "code",
   "execution_count": 3,
   "metadata": {},
   "outputs": [
    {
     "data": {
      "text/plain": [
       "340"
      ]
     },
     "execution_count": 3,
     "metadata": {},
     "output_type": "execute_result"
    }
   ],
   "source": [
    "# Always a good idea with time series data:\n",
    "df.dropna(inplace=True)\n",
    "len(df)"
   ]
  },
  {
   "cell_type": "code",
   "execution_count": 4,
   "metadata": {},
   "outputs": [
    {
     "data": {
      "text/html": [
       "<div>\n",
       "<style scoped>\n",
       "    .dataframe tbody tr th:only-of-type {\n",
       "        vertical-align: middle;\n",
       "    }\n",
       "\n",
       "    .dataframe tbody tr th {\n",
       "        vertical-align: top;\n",
       "    }\n",
       "\n",
       "    .dataframe thead th {\n",
       "        text-align: right;\n",
       "    }\n",
       "</style>\n",
       "<table border=\"1\" class=\"dataframe\">\n",
       "  <thead>\n",
       "    <tr style=\"text-align: right;\">\n",
       "      <th></th>\n",
       "      <th>S4248SM144NCEN</th>\n",
       "    </tr>\n",
       "    <tr>\n",
       "      <th>DATE</th>\n",
       "      <th></th>\n",
       "    </tr>\n",
       "  </thead>\n",
       "  <tbody>\n",
       "    <tr>\n",
       "      <th>1992-01-01</th>\n",
       "      <td>3459</td>\n",
       "    </tr>\n",
       "    <tr>\n",
       "      <th>1992-02-01</th>\n",
       "      <td>3458</td>\n",
       "    </tr>\n",
       "    <tr>\n",
       "      <th>1992-03-01</th>\n",
       "      <td>4002</td>\n",
       "    </tr>\n",
       "    <tr>\n",
       "      <th>1992-04-01</th>\n",
       "      <td>4564</td>\n",
       "    </tr>\n",
       "    <tr>\n",
       "      <th>1992-05-01</th>\n",
       "      <td>4221</td>\n",
       "    </tr>\n",
       "  </tbody>\n",
       "</table>\n",
       "</div>"
      ],
      "text/plain": [
       "            S4248SM144NCEN\n",
       "DATE                      \n",
       "1992-01-01            3459\n",
       "1992-02-01            3458\n",
       "1992-03-01            4002\n",
       "1992-04-01            4564\n",
       "1992-05-01            4221"
      ]
     },
     "execution_count": 4,
     "metadata": {},
     "output_type": "execute_result"
    }
   ],
   "source": [
    "df.head()"
   ]
  },
  {
   "cell_type": "code",
   "execution_count": 5,
   "metadata": {},
   "outputs": [
    {
     "data": {
      "text/html": [
       "<div>\n",
       "<style scoped>\n",
       "    .dataframe tbody tr th:only-of-type {\n",
       "        vertical-align: middle;\n",
       "    }\n",
       "\n",
       "    .dataframe tbody tr th {\n",
       "        vertical-align: top;\n",
       "    }\n",
       "\n",
       "    .dataframe thead th {\n",
       "        text-align: right;\n",
       "    }\n",
       "</style>\n",
       "<table border=\"1\" class=\"dataframe\">\n",
       "  <thead>\n",
       "    <tr style=\"text-align: right;\">\n",
       "      <th></th>\n",
       "      <th>S4248SM144NCEN</th>\n",
       "    </tr>\n",
       "    <tr>\n",
       "      <th>DATE</th>\n",
       "      <th></th>\n",
       "    </tr>\n",
       "  </thead>\n",
       "  <tbody>\n",
       "    <tr>\n",
       "      <th>2019-12-01</th>\n",
       "      <td>16197</td>\n",
       "    </tr>\n",
       "    <tr>\n",
       "      <th>2020-01-01</th>\n",
       "      <td>10659</td>\n",
       "    </tr>\n",
       "    <tr>\n",
       "      <th>2020-02-01</th>\n",
       "      <td>11350</td>\n",
       "    </tr>\n",
       "    <tr>\n",
       "      <th>2020-03-01</th>\n",
       "      <td>13410</td>\n",
       "    </tr>\n",
       "    <tr>\n",
       "      <th>2020-04-01</th>\n",
       "      <td>12378</td>\n",
       "    </tr>\n",
       "  </tbody>\n",
       "</table>\n",
       "</div>"
      ],
      "text/plain": [
       "            S4248SM144NCEN\n",
       "DATE                      \n",
       "2019-12-01           16197\n",
       "2020-01-01           10659\n",
       "2020-02-01           11350\n",
       "2020-03-01           13410\n",
       "2020-04-01           12378"
      ]
     },
     "execution_count": 5,
     "metadata": {},
     "output_type": "execute_result"
    }
   ],
   "source": [
    "df.tail()"
   ]
  },
  {
   "cell_type": "code",
   "execution_count": 6,
   "metadata": {},
   "outputs": [],
   "source": [
    "df = df.iloc[:-3]"
   ]
  },
  {
   "cell_type": "markdown",
   "metadata": {},
   "source": [
    "## Plotting time series data\n",
    "We can add titles, axis labels, and other features to the plot.<br>\n",
    "We're going to tighten the x-axis to fit the width of the actual data with <tt>plt.autoscale(axis='x',tight=True)</tt>.<br>\n",
    "Alternatively you could set your own limits with <tt>plt.xlim(pd.Timestamp('1992-01-01'), pd.Timestamp('2019-01-01'))</tt> or some other values."
   ]
  },
  {
   "cell_type": "code",
   "execution_count": 7,
   "metadata": {},
   "outputs": [
    {
     "data": {
      "image/png": "[encoded data removed]",
      "text/plain": [
       "<Figure size 864x288 with 1 Axes>"
      ]
     },
     "metadata": {
      "needs_background": "light"
     },
     "output_type": "display_data"
    }
   ],
   "source": [
    "plt.figure(figsize=(12,4))\n",
    "plt.title('Beer, Wine, and Alcohol Sales')\n",
    "plt.ylabel('Sales (millions of dollars)')\n",
    "plt.grid(True)\n",
    "plt.autoscale(axis='x',tight=True)\n",
    "plt.plot(df['S4248SM144NCEN'])\n",
    "plt.show()"
   ]
  },
  {
   "cell_type": "markdown",
   "metadata": {},
   "source": [
    "## Prepare the data\n",
    "In the next steps we'll divide the data into train/test sets, then normalize the training values so that they fall between -1 and 1 (to improve training). We'll train the model, then predict into a period that matches the test set. Finally, we'll forecast into an unknown future."
   ]
  },
  {
   "cell_type": "code",
   "execution_count": 8,
   "metadata": {},
   "outputs": [],
   "source": [
    "# Extract values from the source .csv file\n",
    "y = df['S4248SM144NCEN'].values.astype(float)\n",
    "\n",
    "# Define a test size\n",
    "test_size = 12\n",
    "\n",
    "# Create train and test sets\n",
    "train_set = y[:-test_size]\n",
    "test_set = y[-test_size:]"
   ]
  },
  {
   "cell_type": "code",
   "execution_count": 9,
   "metadata": {},
   "outputs": [
    {
     "data": {
      "text/plain": [
       "array([10976., 12472., 13098., 14573., 14277., 13484., 14205., 12992.,\n",
       "       14427., 13773., 16197., 10659.])"
      ]
     },
     "execution_count": 9,
     "metadata": {},
     "output_type": "execute_result"
    }
   ],
   "source": [
    "test_set"
   ]
  },
  {
   "cell_type": "markdown",
   "metadata": {},
   "source": [
    "It's worth noting that in our previous exercise the train and test sets were tensors. Here they're numpy arrays. This is because one of the steps we're about to perform outputs an array, and we'd have to turn it into a tensor anyway."
   ]
  },
  {
   "cell_type": "markdown",
   "metadata": {},
   "source": [
    "## Normalize the data\n",
    "The formula for normalizing data around zero is:<br>\n",
    "### $X_{norm} = \\frac{X - \\mu} {\\sigma}$\n",
    "where $\\mu$ is the population mean, and $\\sigma$ is the population standard deviation.<br>\n",
    "Recall that back in the CNN section we transformed image files using <a href='https://pytorch.org/docs/stable/torchvision/transforms.html#torchvision.transforms.Normalize'><tt><strong>torchvision.transforms.Normalize(<em>mean, std</em>)</strong></tt></a>, both because it was built into DataLoader, and because our pretrained models expected specific normalization values.<br>\n",
    "\n",
    "Ultimately we want to perform <a href='https://en.wikipedia.org/wiki/Feature_scaling'>min/max feature scaling</a> so that our values fall between -1 and 1, as this makes hyperparameters converge faster.<br>The formula for this would be:<br>\n",
    "### $X^{\\prime} = a + \\frac{(X - X_{min}) (b - a)} {X_{max} - X_{min}}$\n",
    "where $a={-1}$ and $b=1$<br>\n",
    "\n",
    "We can use scikit-learn to do this, with <a href='https://scikit-learn.org/stable/modules/generated/sklearn.preprocessing.MinMaxScaler.html'><tt><strong>sklearn.preprocessing.MinMaxScaler()</strong></tt></a>\n",
    "\n",
    "NOTE: We only want to normalize the training set to avoid data leakage. If we include the test set then the higher average values of the test set could become part of the signal in the training set. There's a good article on data leakage <a href='test_set = input_data(test_norm,window_size)'>here</a>.\n",
    "\n",
    "After using transformed data to train the model and generate predictions, we'll inverse_transform the predicted values so that we can compare them to the actual test data."
   ]
  },
  {
   "cell_type": "code",
   "execution_count": 10,
   "metadata": {},
   "outputs": [],
   "source": [
    "from sklearn.preprocessing import MinMaxScaler\n",
    "\n",
    "# Instantiate a scaler with a feature range from -1 to 1\n",
    "scaler = MinMaxScaler(feature_range=(-1, 1))"
   ]
  },
  {
   "cell_type": "code",
   "execution_count": 11,
   "metadata": {},
   "outputs": [],
   "source": [
    "# Normalize the training set\n",
    "train_norm = scaler.fit_transform(train_set.reshape(-1, 1))"
   ]
  },
  {
   "cell_type": "code",
   "execution_count": 12,
   "metadata": {},
   "outputs": [
    {
     "data": {
      "text/plain": [
       "-1.0"
      ]
     },
     "execution_count": 12,
     "metadata": {},
     "output_type": "execute_result"
    }
   ],
   "source": [
    "train_norm.min()"
   ]
  },
  {
   "cell_type": "code",
   "execution_count": 13,
   "metadata": {},
   "outputs": [
    {
     "data": {
      "text/plain": [
       "1.0"
      ]
     },
     "execution_count": 13,
     "metadata": {},
     "output_type": "execute_result"
    }
   ],
   "source": [
    "train_norm.max()"
   ]
  },
  {
   "cell_type": "code",
   "execution_count": 14,
   "metadata": {},
   "outputs": [
    {
     "data": {
      "text/plain": [
       "-0.21007562609256847"
      ]
     },
     "execution_count": 14,
     "metadata": {},
     "output_type": "execute_result"
    }
   ],
   "source": [
    "train_norm.mean()"
   ]
  },
  {
   "cell_type": "code",
   "execution_count": 15,
   "metadata": {},
   "outputs": [
    {
     "data": {
      "text/plain": [
       "numpy.ndarray"
      ]
     },
     "execution_count": 15,
     "metadata": {},
     "output_type": "execute_result"
    }
   ],
   "source": [
    "type(train_norm)"
   ]
  },
  {
   "cell_type": "markdown",
   "metadata": {},
   "source": [
    "## Prepare data for LSTM\n",
    "Here we'll create our list of (seq/label) tuples from the training set. Recall that an LSTM consumes a window of samples toward the first prediction, so the size of our training set will become ((325 - test_size) - window_size)."
   ]
  },
  {
   "cell_type": "code",
   "execution_count": 16,
   "metadata": {},
   "outputs": [
    {
     "data": {
      "text/plain": [
       "313"
      ]
     },
     "execution_count": 16,
     "metadata": {},
     "output_type": "execute_result"
    }
   ],
   "source": [
    "# Convert train_norm from an array to a tensor\n",
    "train_norm = torch.FloatTensor(train_norm).view(-1)\n",
    "\n",
    "# Define a window size\n",
    "window_size = 12\n",
    "\n",
    "# Define function to create seq/label tuples\n",
    "def input_data(seq,ws):  # ws is the window size\n",
    "    out = []\n",
    "    L = len(seq)\n",
    "    for i in range(L-ws):\n",
    "        window = seq[i:i+ws]\n",
    "        label = seq[i+ws:i+ws+1]\n",
    "        out.append((window,label))\n",
    "    return out\n",
    "\n",
    "# Apply the input_data function to train_norm\n",
    "train_data = input_data(train_norm,window_size)\n",
    "len(train_data)  # this should equal 325-12-12"
   ]
  },
  {
   "cell_type": "code",
   "execution_count": 17,
   "metadata": {},
   "outputs": [
    {
     "data": {
      "text/plain": [
       "(tensor([-0.9303, -0.9304, -0.8418, -0.7503, -0.8061, -0.7560, -0.7662, -0.8198,\n",
       "         -0.8216, -0.8000, -0.8030, -0.6897]),\n",
       " tensor([-1.]))"
      ]
     },
     "execution_count": 17,
     "metadata": {},
     "output_type": "execute_result"
    }
   ],
   "source": [
    "# Display the first seq/label tuple in the train data\n",
    "train_data[0]"
   ]
  },
  {
   "cell_type": "markdown",
   "metadata": {},
   "source": [
    "## Define the model\n",
    "This time we'll use an LSTM layer of size (1,100)."
   ]
  },
  {
   "cell_type": "code",
   "execution_count": 18,
   "metadata": {},
   "outputs": [],
   "source": [
    "class LSTMnetwork(nn.Module):\n",
    "    def __init__(self,input_size=1,hidden_size=100,output_size=1):\n",
    "        super().__init__()\n",
    "        self.hidden_size = hidden_size\n",
    "        \n",
    "        # Add an LSTM layer:\n",
    "        self.lstm = nn.LSTM(input_size,hidden_size)\n",
    "        \n",
    "        # Add a fully-connected layer:\n",
    "        self.linear = nn.Linear(hidden_size,output_size)\n",
    "        \n",
    "        # Initialize h0 and c0:\n",
    "        self.hidden = (torch.zeros(1,1,self.hidden_size),\n",
    "                       torch.zeros(1,1,self.hidden_size))\n",
    "\n",
    "    def forward(self,seq):\n",
    "        lstm_out, self.hidden = self.lstm(\n",
    "            seq.view(len(seq),1,-1), self.hidden)\n",
    "        pred = self.linear(lstm_out.view(len(seq),-1))\n",
    "        return pred[-1]  # we only want the last value"
   ]
  },
  {
   "cell_type": "markdown",
   "metadata": {},
   "source": [
    "## Instantiate the model, define loss and optimization functions"
   ]
  },
  {
   "cell_type": "code",
   "execution_count": 19,
   "metadata": {},
   "outputs": [
    {
     "data": {
      "text/plain": [
       "LSTMnetwork(\n",
       "  (lstm): LSTM(1, 100)\n",
       "  (linear): Linear(in_features=100, out_features=1, bias=True)\n",
       ")"
      ]
     },
     "execution_count": 19,
     "metadata": {},
     "output_type": "execute_result"
    }
   ],
   "source": [
    "torch.manual_seed(101)\n",
    "model = LSTMnetwork()\n",
    "\n",
    "criterion = nn.MSELoss()\n",
    "optimizer = torch.optim.Adam(model.parameters(), lr=0.001)\n",
    "\n",
    "model"
   ]
  },
  {
   "cell_type": "code",
   "execution_count": 20,
   "metadata": {},
   "outputs": [
    {
     "name": "stdout",
     "output_type": "stream",
     "text": [
      "   400\n",
      " 40000\n",
      "   400\n",
      "   400\n",
      "   100\n",
      "     1\n",
      "______\n",
      " 41301\n"
     ]
    }
   ],
   "source": [
    "def count_parameters(model):\n",
    "    params = [p.numel() for p in model.parameters() if p.requires_grad]\n",
    "    for item in params:\n",
    "        print(f'{item:>6}')\n",
    "    print(f'______\\n{sum(params):>6}')\n",
    "    \n",
    "count_parameters(model)"
   ]
  },
  {
   "cell_type": "markdown",
   "metadata": {},
   "source": [
    "## Train the model"
   ]
  },
  {
   "cell_type": "code",
   "execution_count": 21,
   "metadata": {},
   "outputs": [
    {
     "name": "stdout",
     "output_type": "stream",
     "text": [
      "Epoch:  1 Loss: 0.26216507\n",
      "Epoch:  2 Loss: 0.30497852\n",
      "Epoch:  3 Loss: 0.17262718\n",
      "Epoch:  4 Loss: 0.19480330\n",
      "Epoch:  5 Loss: 0.19086072\n",
      "Epoch:  6 Loss: 0.18267974\n",
      "Epoch:  7 Loss: 0.18421011\n",
      "Epoch:  8 Loss: 0.18229756\n",
      "Epoch:  9 Loss: 0.16082476\n",
      "Epoch: 10 Loss: 0.15770389\n",
      "Epoch: 11 Loss: 0.15612866\n",
      "Epoch: 12 Loss: 0.14924869\n",
      "Epoch: 13 Loss: 0.14951490\n",
      "Epoch: 14 Loss: 0.16373222\n",
      "Epoch: 15 Loss: 0.16589515\n",
      "Epoch: 16 Loss: 0.16472740\n",
      "Epoch: 17 Loss: 0.17190520\n",
      "Epoch: 18 Loss: 0.17004232\n",
      "Epoch: 19 Loss: 0.17079541\n",
      "Epoch: 20 Loss: 0.16999656\n",
      "Epoch: 21 Loss: 0.16635990\n",
      "Epoch: 22 Loss: 0.16450453\n",
      "Epoch: 23 Loss: 0.16466707\n",
      "Epoch: 24 Loss: 0.15625441\n",
      "Epoch: 25 Loss: 0.15242907\n",
      "Epoch: 26 Loss: 0.15021059\n",
      "Epoch: 27 Loss: 0.14157254\n",
      "Epoch: 28 Loss: 0.13219862\n",
      "Epoch: 29 Loss: 0.11113893\n",
      "Epoch: 30 Loss: 0.10326617\n",
      "Epoch: 31 Loss: 0.07737455\n",
      "Epoch: 32 Loss: 0.03855282\n",
      "Epoch: 33 Loss: 0.00333534\n",
      "Epoch: 34 Loss: 0.08811134\n",
      "Epoch: 35 Loss: 0.06191740\n",
      "Epoch: 36 Loss: 0.08497401\n",
      "Epoch: 37 Loss: 0.03366999\n",
      "Epoch: 38 Loss: 0.06063522\n",
      "Epoch: 39 Loss: 0.06438203\n",
      "Epoch: 40 Loss: 0.07874050\n",
      "Epoch: 41 Loss: 0.07837744\n",
      "Epoch: 42 Loss: 0.06891446\n",
      "Epoch: 43 Loss: 0.05922814\n",
      "Epoch: 44 Loss: 0.05257984\n",
      "Epoch: 45 Loss: 0.04416262\n",
      "Epoch: 46 Loss: 0.04281513\n",
      "Epoch: 47 Loss: 0.04331258\n",
      "Epoch: 48 Loss: 0.04251061\n",
      "Epoch: 49 Loss: 0.04414827\n",
      "Epoch: 50 Loss: 0.04236837\n",
      "Epoch: 51 Loss: 0.04186584\n",
      "Epoch: 52 Loss: 0.03743816\n",
      "Epoch: 53 Loss: 0.03267122\n",
      "Epoch: 54 Loss: 0.03089287\n",
      "Epoch: 55 Loss: 0.03038602\n",
      "Epoch: 56 Loss: 0.02710804\n",
      "Epoch: 57 Loss: 0.02766337\n",
      "Epoch: 58 Loss: 0.01786091\n",
      "Epoch: 59 Loss: 0.00931376\n",
      "Epoch: 60 Loss: 0.00515687\n",
      "Epoch: 61 Loss: 0.00450744\n",
      "Epoch: 62 Loss: 0.00702157\n",
      "Epoch: 63 Loss: 0.00918552\n",
      "Epoch: 64 Loss: 0.00758542\n",
      "Epoch: 65 Loss: 0.00695120\n",
      "Epoch: 66 Loss: 0.01175498\n",
      "Epoch: 67 Loss: 0.01247725\n",
      "Epoch: 68 Loss: 0.00601377\n",
      "Epoch: 69 Loss: 0.02692500\n",
      "Epoch: 70 Loss: 0.00928543\n",
      "Epoch: 71 Loss: 0.02605453\n",
      "Epoch: 72 Loss: 0.00969897\n",
      "Epoch: 73 Loss: 0.02026906\n",
      "Epoch: 74 Loss: 0.01636244\n",
      "Epoch: 75 Loss: 0.00781487\n",
      "Epoch: 76 Loss: 0.01723553\n",
      "Epoch: 77 Loss: 0.00514048\n",
      "Epoch: 78 Loss: 0.01555717\n",
      "Epoch: 79 Loss: 0.00939253\n",
      "Epoch: 80 Loss: 0.00334837\n",
      "Epoch: 81 Loss: 0.01489272\n",
      "Epoch: 82 Loss: 0.02126236\n",
      "Epoch: 83 Loss: 0.02665796\n",
      "Epoch: 84 Loss: 0.01070257\n",
      "Epoch: 85 Loss: 0.02849009\n",
      "Epoch: 86 Loss: 0.01527588\n",
      "Epoch: 87 Loss: 0.02673963\n",
      "Epoch: 88 Loss: 0.01007078\n",
      "Epoch: 89 Loss: 0.03036370\n",
      "Epoch: 90 Loss: 0.01530007\n",
      "Epoch: 91 Loss: 0.02859271\n",
      "Epoch: 92 Loss: 0.01150044\n",
      "Epoch: 93 Loss: 0.01617685\n",
      "Epoch: 94 Loss: 0.00917236\n",
      "Epoch: 95 Loss: 0.01021661\n",
      "Epoch: 96 Loss: 0.00717248\n",
      "Epoch: 97 Loss: 0.00772130\n",
      "Epoch: 98 Loss: 0.00697982\n",
      "Epoch: 99 Loss: 0.00807647\n",
      "Epoch: 100 Loss: 0.00798416\n",
      "Epoch: 101 Loss: 0.00992449\n",
      "Epoch: 102 Loss: 0.01080844\n",
      "Epoch: 103 Loss: 0.01067084\n",
      "Epoch: 104 Loss: 0.00520671\n",
      "Epoch: 105 Loss: 0.00451055\n",
      "Epoch: 106 Loss: 0.00021501\n",
      "Epoch: 107 Loss: 0.00770857\n",
      "Epoch: 108 Loss: 0.00725056\n",
      "Epoch: 109 Loss: 0.00157608\n",
      "Epoch: 110 Loss: 0.00033228\n",
      "Epoch: 111 Loss: 0.00708735\n",
      "Epoch: 112 Loss: 0.00511574\n",
      "Epoch: 113 Loss: 0.00659066\n",
      "Epoch: 114 Loss: 0.00328207\n",
      "Epoch: 115 Loss: 0.00070378\n",
      "Epoch: 116 Loss: 0.00067946\n",
      "Epoch: 117 Loss: 0.00003879\n",
      "Epoch: 118 Loss: 0.00056063\n",
      "Epoch: 119 Loss: 0.00074353\n",
      "Epoch: 120 Loss: 0.00027922\n",
      "Epoch: 121 Loss: 0.00166484\n",
      "Epoch: 122 Loss: 0.00095710\n",
      "Epoch: 123 Loss: 0.00322767\n",
      "Epoch: 124 Loss: 0.00089498\n",
      "Epoch: 125 Loss: 0.00039294\n",
      "Epoch: 126 Loss: 0.00258139\n",
      "Epoch: 127 Loss: 0.00091204\n",
      "Epoch: 128 Loss: 0.00047603\n",
      "Epoch: 129 Loss: 0.00005434\n",
      "Epoch: 130 Loss: 0.00046629\n",
      "Epoch: 131 Loss: 0.00013666\n",
      "Epoch: 132 Loss: 0.00010886\n",
      "Epoch: 133 Loss: 0.00125458\n",
      "Epoch: 134 Loss: 0.00035593\n",
      "Epoch: 135 Loss: 0.00001725\n",
      "Epoch: 136 Loss: 0.00041550\n",
      "Epoch: 137 Loss: 0.00008121\n",
      "Epoch: 138 Loss: 0.00168239\n",
      "Epoch: 139 Loss: 0.00032827\n",
      "Epoch: 140 Loss: 0.00000444\n",
      "Epoch: 141 Loss: 0.00035185\n",
      "Epoch: 142 Loss: 0.00092022\n",
      "Epoch: 143 Loss: 0.00259239\n",
      "Epoch: 144 Loss: 0.00018590\n",
      "Epoch: 145 Loss: 0.00120658\n",
      "Epoch: 146 Loss: 0.00002056\n",
      "Epoch: 147 Loss: 0.00127795\n",
      "Epoch: 148 Loss: 0.00284404\n",
      "Epoch: 149 Loss: 0.00052018\n",
      "Epoch: 150 Loss: 0.00131379\n",
      "\n",
      "Duration: 565 seconds\n"
     ]
    }
   ],
   "source": [
    "epochs = 150\n",
    "\n",
    "import time\n",
    "start_time = time.time()\n",
    "\n",
    "for epoch in range(epochs):\n",
    "    \n",
    "    # extract the sequence & label from the training data\n",
    "    for seq, y_train in train_data:\n",
    "        \n",
    "        # reset the parameters and hidden states\n",
    "        optimizer.zero_grad()\n",
    "        model.hidden = (torch.zeros(1,1,model.hidden_size),\n",
    "                        torch.zeros(1,1,model.hidden_size))\n",
    "        \n",
    "        y_pred = model(seq)\n",
    "        \n",
    "        loss = criterion(y_pred, y_train)\n",
    "        loss.backward()\n",
    "        optimizer.step()\n",
    "        \n",
    "    # print training result\n",
    "    print(f'Epoch: {epoch+1:2} Loss: {loss.item():10.8f}')\n",
    "    \n",
    "print(f'\\nDuration: {time.time() - start_time:.0f} seconds')"
   ]
  },
  {
   "cell_type": "markdown",
   "metadata": {},
   "source": [
    "## Run predictions and compare to known test set"
   ]
  },
  {
   "cell_type": "code",
   "execution_count": 22,
   "metadata": {},
   "outputs": [],
   "source": [
    "future = 12\n",
    "\n",
    "# Add the last window of training values to the list of predictions\n",
    "preds = train_norm[-window_size:].tolist()\n",
    "\n",
    "# Set the model to evaluation mode\n",
    "model.eval()\n",
    "\n",
    "for i in range(future):\n",
    "    seq = torch.FloatTensor(preds[-window_size:])\n",
    "    with torch.no_grad():\n",
    "        model.hidden = (torch.zeros(1,1,model.hidden_size),\n",
    "                        torch.zeros(1,1,model.hidden_size))\n",
    "        preds.append(model(seq).item())"
   ]
  },
  {
   "cell_type": "code",
   "execution_count": 23,
   "metadata": {},
   "outputs": [
    {
     "data": {
      "text/plain": [
       "[0.2029547542333603,\n",
       " 0.5343822836875916,\n",
       " 0.44669774174690247,\n",
       " 0.8727658987045288,\n",
       " 0.9349254965782166,\n",
       " 0.7409918308258057,\n",
       " 1.0095971822738647,\n",
       " 0.475128173828125,\n",
       " 0.9629335403442383,\n",
       " 0.879854142665863,\n",
       " 1.3192784786224365,\n",
       " 0.5002978444099426]"
      ]
     },
     "execution_count": 23,
     "metadata": {},
     "output_type": "execute_result"
    }
   ],
   "source": [
    "# Display predicted values\n",
    "preds[window_size:]    # equivalent to preds[-future:]"
   ]
  },
  {
   "cell_type": "markdown",
   "metadata": {},
   "source": [
    "## Invert the normalization\n",
    "We want to compare our test predictions to the original data, so we need to undo the previous normalization step. Note that <tt>inverse_transform</tt> uses the most recently applied parameters; we can rescale based on the test data, but not on the previous training data."
   ]
  },
  {
   "cell_type": "code",
   "execution_count": 24,
   "metadata": {},
   "outputs": [
    {
     "data": {
      "text/plain": [
       "array([[10415.33775886],\n",
       "       [12449.80564842],\n",
       "       [11911.55408771],\n",
       "       [14526.9734692 ],\n",
       "       [14908.54016075],\n",
       "       [13718.07835352],\n",
       "       [15366.91230339],\n",
       "       [12086.07429504],\n",
       "       [15080.4675374 ],\n",
       "       [14570.48465475],\n",
       "       [17267.89094102],\n",
       "       [12240.57831791]])"
      ]
     },
     "execution_count": 24,
     "metadata": {},
     "output_type": "execute_result"
    }
   ],
   "source": [
    "true_predictions = scaler.inverse_transform(np.array(preds[window_size:]).reshape(-1, 1))\n",
    "true_predictions"
   ]
  },
  {
   "cell_type": "code",
   "execution_count": 25,
   "metadata": {},
   "outputs": [
    {
     "data": {
      "text/plain": [
       "DATE\n",
       "2019-02-01    10976\n",
       "2019-03-01    12472\n",
       "2019-04-01    13098\n",
       "2019-05-01    14573\n",
       "2019-06-01    14277\n",
       "2019-07-01    13484\n",
       "2019-08-01    14205\n",
       "2019-09-01    12992\n",
       "2019-10-01    14427\n",
       "2019-11-01    13773\n",
       "2019-12-01    16197\n",
       "2020-01-01    10659\n",
       "Name: S4248SM144NCEN, dtype: int64"
      ]
     },
     "execution_count": 25,
     "metadata": {},
     "output_type": "execute_result"
    }
   ],
   "source": [
    "df['S4248SM144NCEN'][-12:]"
   ]
  },
  {
   "cell_type": "markdown",
   "metadata": {},
   "source": [
    "It looks like our predictions weren't that far off!\n",
    "## Plot the results\n",
    "Our original data contains a datetime index, but our predicted values do not. We can create a range of dates using NumPy that are spaced one month apart using <tt>dtype='datetime64[M]'</tt>, and then store them with day values to match our dataset with <tt>.astype('datetime64[D]')</tt>."
   ]
  },
  {
   "cell_type": "code",
   "execution_count": 26,
   "metadata": {},
   "outputs": [
    {
     "data": {
      "text/plain": [
       "array(['2020-01-01', '2020-02-01', '2020-03-01', '2020-04-01',\n",
       "       '2020-05-01', '2020-06-01', '2020-07-01', '2020-08-01',\n",
       "       '2020-09-01', '2020-10-01', '2020-11-01', '2020-12-01'],\n",
       "      dtype='datetime64[D]')"
      ]
     },
     "execution_count": 26,
     "metadata": {},
     "output_type": "execute_result"
    }
   ],
   "source": [
    "# Remember that the stop date has to be later than the last predicted value.\n",
    "x = np.arange('2020-01-01', '2021-01-01', dtype='datetime64[M]').astype('datetime64[D]')\n",
    "x"
   ]
  },
  {
   "cell_type": "code",
   "execution_count": 27,
   "metadata": {},
   "outputs": [
    {
     "data": {
      "image/png": "[encoded data removed]",
      "text/plain": [
       "<Figure size 864x288 with 1 Axes>"
      ]
     },
     "metadata": {
      "needs_background": "light"
     },
     "output_type": "display_data"
    }
   ],
   "source": [
    "plt.figure(figsize=(12,4))\n",
    "plt.title('Beer, Wine, and Alcohol Sales')\n",
    "plt.ylabel('Sales (millions of dollars)')\n",
    "plt.grid(True)\n",
    "plt.autoscale(axis='x',tight=True)\n",
    "plt.plot(df['S4248SM144NCEN'])\n",
    "plt.plot(x,true_predictions)\n",
    "plt.show()"
   ]
  },
  {
   "cell_type": "code",
   "execution_count": 28,
   "metadata": {},
   "outputs": [
    {
     "data": {
      "image/png": "[encoded data removed]",
      "text/plain": [
       "<Figure size 864x288 with 1 Axes>"
      ]
     },
     "metadata": {
      "needs_background": "light"
     },
     "output_type": "display_data"
    }
   ],
   "source": [
    "# Plot the end of the graph\n",
    "fig = plt.figure(figsize=(12,4))\n",
    "plt.title('Beer, Wine, and Alcohol Sales')\n",
    "plt.ylabel('Sales (millions of dollars)')\n",
    "plt.grid(True)\n",
    "plt.autoscale(axis='x',tight=True)\n",
    "fig.autofmt_xdate()\n",
    "\n",
    "# Select the end of the graph with slice notation:\n",
    "plt.plot(df['S4248SM144NCEN']['2019-01-01':])\n",
    "plt.plot(x,true_predictions)\n",
    "plt.show()"
   ]
  },
  {
   "cell_type": "markdown",
   "metadata": {},
   "source": [
    "For more information on x-axis date formatting in matplotlib, check out <a href='https://matplotlib.org/api/_as_gen/matplotlib.figure.Figure.html#matplotlib.figure.Figure.autofmt_xdate'><tt><strong>matplotlib.figure.Figure.autofmt_xdate</strong></tt></a> and <a href='https://matplotlib.org/api/dates_api.html#matplotlib.dates.DateFormatter'><tt><strong>matplotlib.dates.DateFormatter</strong></tt></a>"
   ]
  },
  {
   "cell_type": "markdown",
   "metadata": {},
   "source": [
    "# Forecast into an unknown future\n",
    "This time we'll continue training the model using the entire dataset, and predict 12 steps into the future."
   ]
  },
  {
   "cell_type": "code",
   "execution_count": 29,
   "metadata": {},
   "outputs": [
    {
     "name": "stdout",
     "output_type": "stream",
     "text": [
      "Epoch:  1 Loss: 0.03075545\n",
      "Epoch:  2 Loss: 0.00735304\n",
      "Epoch:  3 Loss: 0.00146624\n",
      "Epoch:  4 Loss: 0.00000117\n",
      "Epoch:  5 Loss: 0.00062939\n",
      "Epoch:  6 Loss: 0.00000050\n",
      "Epoch:  7 Loss: 0.00005628\n",
      "Epoch:  8 Loss: 0.00240123\n",
      "Epoch:  9 Loss: 0.00035662\n",
      "Epoch: 10 Loss: 0.00000118\n",
      "Epoch: 11 Loss: 0.00073790\n",
      "Epoch: 12 Loss: 0.00026264\n",
      "Epoch: 13 Loss: 0.00001121\n",
      "Epoch: 14 Loss: 0.00179362\n",
      "Epoch: 15 Loss: 0.00170194\n",
      "Epoch: 16 Loss: 0.00050983\n",
      "Epoch: 17 Loss: 0.00034065\n",
      "Epoch: 18 Loss: 0.00209286\n",
      "Epoch: 19 Loss: 0.00138536\n",
      "Epoch: 20 Loss: 0.00129617\n",
      "Epoch: 21 Loss: 0.00073590\n",
      "Epoch: 22 Loss: 0.00034843\n",
      "Epoch: 23 Loss: 0.00001600\n",
      "Epoch: 24 Loss: 0.00000278\n",
      "Epoch: 25 Loss: 0.00807605\n",
      "Epoch: 26 Loss: 0.00128275\n",
      "Epoch: 27 Loss: 0.00036744\n",
      "Epoch: 28 Loss: 0.00027839\n",
      "Epoch: 29 Loss: 0.00047251\n",
      "Epoch: 30 Loss: 0.00030951\n",
      "Epoch: 31 Loss: 0.00138520\n",
      "Epoch: 32 Loss: 0.00058414\n",
      "Epoch: 33 Loss: 0.00000215\n",
      "Epoch: 34 Loss: 0.00181877\n",
      "Epoch: 35 Loss: 0.00616549\n",
      "Epoch: 36 Loss: 0.00206334\n",
      "Epoch: 37 Loss: 0.00027680\n",
      "Epoch: 38 Loss: 0.00000462\n",
      "Epoch: 39 Loss: 0.00045398\n",
      "Epoch: 40 Loss: 0.00001227\n",
      "Epoch: 41 Loss: 0.00013011\n",
      "Epoch: 42 Loss: 0.00000795\n",
      "Epoch: 43 Loss: 0.00020573\n",
      "Epoch: 44 Loss: 0.00058661\n",
      "Epoch: 45 Loss: 0.00352255\n",
      "Epoch: 46 Loss: 0.00060222\n",
      "Epoch: 47 Loss: 0.00000345\n",
      "Epoch: 48 Loss: 0.00012978\n",
      "Epoch: 49 Loss: 0.00000018\n",
      "Epoch: 50 Loss: 0.00128096\n",
      "Epoch: 51 Loss: 0.00086911\n",
      "Epoch: 52 Loss: 0.00000633\n",
      "Epoch: 53 Loss: 0.00005573\n",
      "Epoch: 54 Loss: 0.00347221\n",
      "Epoch: 55 Loss: 0.00103917\n",
      "Epoch: 56 Loss: 0.00000516\n",
      "Epoch: 57 Loss: 0.00061147\n",
      "Epoch: 58 Loss: 0.00117712\n",
      "Epoch: 59 Loss: 0.00011297\n",
      "Epoch: 60 Loss: 0.00283022\n",
      "Epoch: 61 Loss: 0.00058664\n",
      "Epoch: 62 Loss: 0.00029413\n",
      "Epoch: 63 Loss: 0.00019344\n",
      "Epoch: 64 Loss: 0.00000726\n",
      "Epoch: 65 Loss: 0.00003862\n",
      "Epoch: 66 Loss: 0.00021176\n",
      "Epoch: 67 Loss: 0.00000010\n",
      "Epoch: 68 Loss: 0.00088438\n",
      "Epoch: 69 Loss: 0.00124945\n",
      "Epoch: 70 Loss: 0.00000733\n",
      "Epoch: 71 Loss: 0.00169664\n",
      "Epoch: 72 Loss: 0.00000980\n",
      "Epoch: 73 Loss: 0.00001490\n",
      "Epoch: 74 Loss: 0.00142147\n",
      "Epoch: 75 Loss: 0.00001067\n",
      "Epoch: 76 Loss: 0.00096494\n",
      "Epoch: 77 Loss: 0.00151232\n",
      "Epoch: 78 Loss: 0.00003601\n",
      "Epoch: 79 Loss: 0.00000516\n",
      "Epoch: 80 Loss: 0.00452554\n",
      "Epoch: 81 Loss: 0.00162505\n",
      "Epoch: 82 Loss: 0.00128261\n",
      "Epoch: 83 Loss: 0.00020010\n",
      "Epoch: 84 Loss: 0.00001196\n",
      "Epoch: 85 Loss: 0.00067314\n",
      "Epoch: 86 Loss: 0.00252221\n",
      "Epoch: 87 Loss: 0.00166067\n",
      "Epoch: 88 Loss: 0.00049741\n",
      "Epoch: 89 Loss: 0.00012153\n",
      "Epoch: 90 Loss: 0.00097278\n",
      "Epoch: 91 Loss: 0.00000324\n",
      "Epoch: 92 Loss: 0.00014030\n",
      "Epoch: 93 Loss: 0.00440574\n",
      "Epoch: 94 Loss: 0.00366569\n",
      "Epoch: 95 Loss: 0.00017297\n",
      "Epoch: 96 Loss: 0.00000545\n",
      "Epoch: 97 Loss: 0.00013538\n",
      "Epoch: 98 Loss: 0.00000684\n",
      "Epoch: 99 Loss: 0.00189981\n",
      "Epoch: 100 Loss: 0.00012554\n",
      "Epoch: 101 Loss: 0.00037352\n",
      "Epoch: 102 Loss: 0.00210134\n",
      "Epoch: 103 Loss: 0.00021167\n",
      "Epoch: 104 Loss: 0.00000869\n",
      "Epoch: 105 Loss: 0.00148610\n",
      "Epoch: 106 Loss: 0.00010765\n",
      "Epoch: 107 Loss: 0.00009987\n",
      "Epoch: 108 Loss: 0.00166452\n",
      "Epoch: 109 Loss: 0.00013097\n",
      "Epoch: 110 Loss: 0.00001470\n",
      "Epoch: 111 Loss: 0.00006628\n",
      "Epoch: 112 Loss: 0.00000550\n",
      "Epoch: 113 Loss: 0.00000236\n",
      "Epoch: 114 Loss: 0.00001538\n",
      "Epoch: 115 Loss: 0.00047686\n",
      "Epoch: 116 Loss: 0.00043187\n",
      "Epoch: 117 Loss: 0.00000176\n",
      "Epoch: 118 Loss: 0.00015383\n",
      "Epoch: 119 Loss: 0.00136743\n",
      "Epoch: 120 Loss: 0.00192205\n",
      "Epoch: 121 Loss: 0.00075520\n",
      "Epoch: 122 Loss: 0.00130847\n",
      "Epoch: 123 Loss: 0.00296815\n",
      "Epoch: 124 Loss: 0.00019293\n",
      "Epoch: 125 Loss: 0.00102091\n",
      "Epoch: 126 Loss: 0.00050413\n",
      "Epoch: 127 Loss: 0.00204406\n",
      "Epoch: 128 Loss: 0.00003756\n",
      "Epoch: 129 Loss: 0.00000663\n",
      "Epoch: 130 Loss: 0.00062857\n",
      "Epoch: 131 Loss: 0.00001907\n",
      "Epoch: 132 Loss: 0.00002111\n",
      "Epoch: 133 Loss: 0.00049239\n",
      "Epoch: 134 Loss: 0.00001872\n",
      "Epoch: 135 Loss: 0.00075285\n",
      "Epoch: 136 Loss: 0.00072398\n",
      "Epoch: 137 Loss: 0.00078384\n",
      "Epoch: 138 Loss: 0.00000546\n",
      "Epoch: 139 Loss: 0.00000314\n",
      "Epoch: 140 Loss: 0.00039256\n",
      "Epoch: 141 Loss: 0.00014025\n",
      "Epoch: 142 Loss: 0.00521709\n",
      "Epoch: 143 Loss: 0.00003251\n",
      "Epoch: 144 Loss: 0.00032787\n",
      "Epoch: 145 Loss: 0.00000538\n",
      "Epoch: 146 Loss: 0.00014749\n",
      "Epoch: 147 Loss: 0.00031696\n",
      "Epoch: 148 Loss: 0.00018394\n",
      "Epoch: 149 Loss: 0.00028866\n",
      "Epoch: 150 Loss: 0.00015285\n",
      "\n",
      "Duration: 603 seconds\n"
     ]
    }
   ],
   "source": [
    "epochs = 150\n",
    "\n",
    "# set model to back to training mode\n",
    "model.train()\n",
    "\n",
    "# feature scale the entire dataset\n",
    "y_norm = scaler.fit_transform(y.reshape(-1, 1))\n",
    "y_norm = torch.FloatTensor(y_norm).view(-1)\n",
    "all_data = input_data(y_norm,window_size)\n",
    "\n",
    "import time\n",
    "start_time = time.time()\n",
    "\n",
    "for epoch in range(epochs):\n",
    "    \n",
    "    # train on the full set of sequences\n",
    "    for seq, y_train in all_data:  \n",
    "        \n",
    "        # reset the parameters and hidden states\n",
    "        optimizer.zero_grad()\n",
    "        model.hidden = (torch.zeros(1,1,model.hidden_size),\n",
    "                        torch.zeros(1,1,model.hidden_size))\n",
    "        \n",
    "        y_pred = model(seq)\n",
    "        \n",
    "        loss = criterion(y_pred, y_train)\n",
    "        loss.backward()\n",
    "        optimizer.step()\n",
    "        \n",
    "    # print training result\n",
    "    print(f'Epoch: {epoch+1:2} Loss: {loss.item():10.8f}')\n",
    "    \n",
    "print(f'\\nDuration: {time.time() - start_time:.0f} seconds')"
   ]
  },
  {
   "cell_type": "markdown",
   "metadata": {},
   "source": [
    "## Predict future values, plot the result"
   ]
  },
  {
   "cell_type": "code",
   "execution_count": 30,
   "metadata": {},
   "outputs": [
    {
     "data": {
      "image/png": "[encoded data removed]",
      "text/plain": [
       "<Figure size 864x288 with 1 Axes>"
      ]
     },
     "metadata": {
      "needs_background": "light"
     },
     "output_type": "display_data"
    }
   ],
   "source": [
    "window_size = 12\n",
    "future = 12\n",
    "L = len(y)\n",
    "\n",
    "preds = y_norm[-window_size:].tolist()\n",
    "\n",
    "model.eval()\n",
    "for i in range(future):  \n",
    "    seq = torch.FloatTensor(preds[-window_size:])\n",
    "    with torch.no_grad():\n",
    "        # Reset the hidden parameters here!\n",
    "        model.hidden = (torch.zeros(1,1,model.hidden_size),\n",
    "                        torch.zeros(1,1,model.hidden_size))  \n",
    "        preds.append(model(seq).item())\n",
    "\n",
    "# Inverse-normalize the prediction set\n",
    "true_predictions = scaler.inverse_transform(np.array(preds).reshape(-1, 1))\n",
    "\n",
    "# PLOT THE RESULT\n",
    "# Set a data range for the predicted data.\n",
    "# Remember that the stop date has to be later than the last predicted value.\n",
    "x = np.arange('2020-01-01', '2021-01-01', dtype='datetime64[M]').astype('datetime64[D]')\n",
    "\n",
    "plt.figure(figsize=(12,4))\n",
    "plt.title('Beer, Wine, and Alcohol Sales')\n",
    "plt.ylabel('Sales (millions of dollars)')\n",
    "plt.grid(True)\n",
    "plt.autoscale(axis='x',tight=True)\n",
    "plt.plot(df['S4248SM144NCEN'])\n",
    "plt.plot(x,true_predictions[window_size:])\n",
    "plt.show()"
   ]
  },
  {
   "cell_type": "code",
   "execution_count": 31,
   "metadata": {},
   "outputs": [
    {
     "data": {
      "image/png": "[encoded data removed]",
      "text/plain": [
       "<Figure size 864x288 with 1 Axes>"
      ]
     },
     "metadata": {
      "needs_background": "light"
     },
     "output_type": "display_data"
    }
   ],
   "source": [
    "fig = plt.figure(figsize=(12,4))\n",
    "plt.title('Beer, Wine, and Alcohol Sales')\n",
    "plt.ylabel('Sales (millions of dollars)')\n",
    "plt.grid(True)\n",
    "plt.autoscale(axis='x',tight=True)\n",
    "fig.autofmt_xdate()\n",
    "plt.plot(df['S4248SM144NCEN']['2019-01-01':])\n",
    "plt.plot(x,true_predictions[window_size:])\n",
    "plt.show()"
   ]
  },
  {
   "cell_type": "markdown",
   "metadata": {},
   "source": [
    "## Great job!"
   ]
  },
  {
   "cell_type": "markdown",
   "metadata": {},
   "source": [
    "<h3>BONUS:</h3>To save time in the future, we've written a function that will take in a time series training data set, and output a tensor of <tt>(seq, label)</tt> tuples."
   ]
  },
  {
   "cell_type": "code",
   "execution_count": 34,
   "metadata": {},
   "outputs": [],
   "source": [
    "# Load dependencies\n",
    "from sklearn.preprocessing import MinMaxScaler\n",
    "\n",
    "# Instantiate a scaler\n",
    "\"\"\"\n",
    "This has to be done outside the function definition so that\n",
    "we can inverse_transform the prediction set later on.\n",
    "\"\"\"\n",
    "scaler = MinMaxScaler(feature_range=(-1, 1))\n",
    "\n",
    "# Extract values from the source .csv file\n",
    "df = pd.read_csv('../Data/Alchohol_Sales.csv',index_col=0,parse_dates=True)\n",
    "y = df['S4248SM144NCEN'].values.astype(float)\n",
    "\n",
    "# Define a test size\n",
    "test_size = 12\n",
    "\n",
    "# Create the training set of values\n",
    "train_set = y[:-test_size]"
   ]
  },
  {
   "cell_type": "code",
   "execution_count": 35,
   "metadata": {},
   "outputs": [],
   "source": [
    "# DEFINE A FUNCTION:\n",
    "def create_train_data(seq,ws=12):\n",
    "    \"\"\"Takes in a training sequence and window size (ws) of\n",
    "       default size 12, returns a tensor of (seq/label) tuples\"\"\"\n",
    "    seq_norm = scaler.fit_transform(seq.reshape(-1, 1))    \n",
    "    seq_norm = torch.FloatTensor(seq_norm).view(-1)\n",
    "\n",
    "    out = []\n",
    "    L = len(seq_norm)\n",
    "    for i in range(L-ws):\n",
    "        window = seq_norm[i:i+ws]\n",
    "        label = seq_norm[i+ws:i+ws+1]\n",
    "        out.append((window,label))\n",
    "    return out"
   ]
  },
  {
   "cell_type": "code",
   "execution_count": 36,
   "metadata": {},
   "outputs": [
    {
     "data": {
      "text/plain": [
       "316"
      ]
     },
     "execution_count": 36,
     "metadata": {},
     "output_type": "execute_result"
    }
   ],
   "source": [
    "# Apply the function to train_set\n",
    "train_data = create_train_data(train_set,12)\n",
    "len(train_data)  # this should equal 313-12"
   ]
  },
  {
   "cell_type": "code",
   "execution_count": 37,
   "metadata": {},
   "outputs": [
    {
     "data": {
      "text/plain": [
       "(tensor([-0.9303, -0.9304, -0.8418, -0.7503, -0.8061, -0.7560, -0.7662, -0.8198,\n",
       "         -0.8216, -0.8000, -0.8030, -0.6897]),\n",
       " tensor([-1.]))"
      ]
     },
     "execution_count": 37,
     "metadata": {},
     "output_type": "execute_result"
    }
   ],
   "source": [
    "train_data[0]"
   ]
  },
  {
   "cell_type": "code",
   "execution_count": 38,
   "metadata": {},
   "outputs": [
    {
     "name": "stdout",
     "output_type": "stream",
     "text": [
      "Help on function create_train_data in module __main__:\n",
      "\n",
      "create_train_data(seq, ws=12)\n",
      "    Takes in a training sequence and window size (ws) of\n",
      "    default size 12, returns a tensor of (seq/label) tuples\n",
      "\n"
     ]
    }
   ],
   "source": [
    "help(create_train_data)"
   ]
  },
  {
   "cell_type": "code",
   "execution_count": null,
   "metadata": {},
   "outputs": [],
   "source": []
  }
 ],
 "metadata": {
  "kernelspec": {
   "display_name": "Python 3",
   "language": "python",
   "name": "python3"
  },
  "language_info": {
   "codemirror_mode": {
    "name": "ipython",
    "version": 3
   },
   "file_extension": ".py",
   "mimetype": "text/x-python",
   "name": "python",
   "nbconvert_exporter": "python",
   "pygments_lexer": "ipython3",
   "version": "3.7.3"
  }
 },
 "nbformat": 4,
 "nbformat_minor": 2
}
