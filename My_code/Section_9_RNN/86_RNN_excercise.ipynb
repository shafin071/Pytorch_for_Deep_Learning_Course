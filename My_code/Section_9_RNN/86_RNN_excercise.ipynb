{
 "cells": [
  {
   "cell_type": "markdown",
   "metadata": {},
   "source": [
    "# RNN Exercises\n",
    "For these exercises we're using data from the Federal Reserve Economic Database (FRED) concerning Electricity and Gas Utilities Production from January 1992 to January 2019 (325 records).\n",
    "\n",
    "Data source: https://fred.stlouisfed.org/series/IPG2211A2N\n",
    "\n",
    "In the exercises below you'll be asked to do the following:\n",
    "* Perform standard imports, load & plot the dataset (code provided)\n",
    "* Prepare data for an LSTM model\n",
    "* Define the LSTM model, loss and optimization functions\n",
    "* Train the model\n",
    "* Evaluate the model on test data\n",
    "* OPTIONAL: Plot the results\n",
    "\n",
    "<div class=\"alert alert-danger\" style=\"margin: 10px\"><strong>IMPORTANT NOTE!</strong> Make sure you don't run the cells directly above the example output shown, <br>otherwise you will end up writing over the example output!</div>"
   ]
  },
  {
   "cell_type": "markdown",
   "metadata": {},
   "source": [
    "## Perform standard imports, load and plot the dataset\n",
    "Run the cells below to load the libraries needed for this exercise and the Energy Production dataset, and to plot the data."
   ]
  },
  {
   "cell_type": "code",
   "execution_count": 1,
   "metadata": {},
   "outputs": [],
   "source": [
    "# RUN THIS CELL\n",
    "import torch\n",
    "import torch.nn as nn\n",
    "from sklearn.preprocessing import MinMaxScaler\n",
    "\n",
    "import numpy as np\n",
    "import pandas as pd\n",
    "import matplotlib.pyplot as plt\n",
    "%matplotlib inline\n",
    "\n",
    "from pandas.plotting import register_matplotlib_converters\n",
    "register_matplotlib_converters()"
   ]
  },
  {
   "cell_type": "code",
   "execution_count": 2,
   "metadata": {},
   "outputs": [
    {
     "name": "stdout",
     "output_type": "stream",
     "text": [
      "977\n"
     ]
    },
    {
     "data": {
      "text/html": [
       "<div>\n",
       "<style scoped>\n",
       "    .dataframe tbody tr th:only-of-type {\n",
       "        vertical-align: middle;\n",
       "    }\n",
       "\n",
       "    .dataframe tbody tr th {\n",
       "        vertical-align: top;\n",
       "    }\n",
       "\n",
       "    .dataframe thead th {\n",
       "        text-align: right;\n",
       "    }\n",
       "</style>\n",
       "<table border=\"1\" class=\"dataframe\">\n",
       "  <thead>\n",
       "    <tr style=\"text-align: right;\">\n",
       "      <th></th>\n",
       "      <th>IPG2211A2N</th>\n",
       "    </tr>\n",
       "    <tr>\n",
       "      <th>DATE</th>\n",
       "      <th></th>\n",
       "    </tr>\n",
       "  </thead>\n",
       "  <tbody>\n",
       "    <tr>\n",
       "      <th>1939-01-01</th>\n",
       "      <td>3.3842</td>\n",
       "    </tr>\n",
       "    <tr>\n",
       "      <th>1939-02-01</th>\n",
       "      <td>3.4100</td>\n",
       "    </tr>\n",
       "    <tr>\n",
       "      <th>1939-03-01</th>\n",
       "      <td>3.4875</td>\n",
       "    </tr>\n",
       "    <tr>\n",
       "      <th>1939-04-01</th>\n",
       "      <td>3.5133</td>\n",
       "    </tr>\n",
       "    <tr>\n",
       "      <th>1939-05-01</th>\n",
       "      <td>3.5133</td>\n",
       "    </tr>\n",
       "    <tr>\n",
       "      <th>1939-06-01</th>\n",
       "      <td>3.5650</td>\n",
       "    </tr>\n",
       "    <tr>\n",
       "      <th>1939-07-01</th>\n",
       "      <td>3.5650</td>\n",
       "    </tr>\n",
       "    <tr>\n",
       "      <th>1939-08-01</th>\n",
       "      <td>3.6167</td>\n",
       "    </tr>\n",
       "    <tr>\n",
       "      <th>1939-09-01</th>\n",
       "      <td>3.7200</td>\n",
       "    </tr>\n",
       "    <tr>\n",
       "      <th>1939-10-01</th>\n",
       "      <td>3.7200</td>\n",
       "    </tr>\n",
       "    <tr>\n",
       "      <th>1939-11-01</th>\n",
       "      <td>3.7458</td>\n",
       "    </tr>\n",
       "    <tr>\n",
       "      <th>1939-12-01</th>\n",
       "      <td>3.7458</td>\n",
       "    </tr>\n",
       "    <tr>\n",
       "      <th>1940-01-01</th>\n",
       "      <td>3.7717</td>\n",
       "    </tr>\n",
       "    <tr>\n",
       "      <th>1940-02-01</th>\n",
       "      <td>3.8233</td>\n",
       "    </tr>\n",
       "  </tbody>\n",
       "</table>\n",
       "</div>"
      ],
      "text/plain": [
       "            IPG2211A2N\n",
       "DATE                  \n",
       "1939-01-01      3.3842\n",
       "1939-02-01      3.4100\n",
       "1939-03-01      3.4875\n",
       "1939-04-01      3.5133\n",
       "1939-05-01      3.5133\n",
       "1939-06-01      3.5650\n",
       "1939-07-01      3.5650\n",
       "1939-08-01      3.6167\n",
       "1939-09-01      3.7200\n",
       "1939-10-01      3.7200\n",
       "1939-11-01      3.7458\n",
       "1939-12-01      3.7458\n",
       "1940-01-01      3.7717\n",
       "1940-02-01      3.8233"
      ]
     },
     "execution_count": 2,
     "metadata": {},
     "output_type": "execute_result"
    }
   ],
   "source": [
    "df = pd.read_csv('../Data/Energy_Production.csv',index_col=0,parse_dates=True)\n",
    "df.dropna(inplace=True)\n",
    "print(len(df))\n",
    "df.head(14)"
   ]
  },
  {
   "cell_type": "code",
   "execution_count": 3,
   "metadata": {},
   "outputs": [
    {
     "data": {
      "text/html": [
       "<div>\n",
       "<style scoped>\n",
       "    .dataframe tbody tr th:only-of-type {\n",
       "        vertical-align: middle;\n",
       "    }\n",
       "\n",
       "    .dataframe tbody tr th {\n",
       "        vertical-align: top;\n",
       "    }\n",
       "\n",
       "    .dataframe thead th {\n",
       "        text-align: right;\n",
       "    }\n",
       "</style>\n",
       "<table border=\"1\" class=\"dataframe\">\n",
       "  <thead>\n",
       "    <tr style=\"text-align: right;\">\n",
       "      <th></th>\n",
       "      <th>IPG2211A2N</th>\n",
       "    </tr>\n",
       "    <tr>\n",
       "      <th>DATE</th>\n",
       "      <th></th>\n",
       "    </tr>\n",
       "  </thead>\n",
       "  <tbody>\n",
       "    <tr>\n",
       "      <th>2019-06-01</th>\n",
       "      <td>98.4548</td>\n",
       "    </tr>\n",
       "    <tr>\n",
       "      <th>2019-07-01</th>\n",
       "      <td>113.0791</td>\n",
       "    </tr>\n",
       "    <tr>\n",
       "      <th>2019-08-01</th>\n",
       "      <td>111.2697</td>\n",
       "    </tr>\n",
       "    <tr>\n",
       "      <th>2019-09-01</th>\n",
       "      <td>102.0185</td>\n",
       "    </tr>\n",
       "    <tr>\n",
       "      <th>2019-10-01</th>\n",
       "      <td>93.9518</td>\n",
       "    </tr>\n",
       "    <tr>\n",
       "      <th>2019-11-01</th>\n",
       "      <td>102.1902</td>\n",
       "    </tr>\n",
       "    <tr>\n",
       "      <th>2019-12-01</th>\n",
       "      <td>113.0698</td>\n",
       "    </tr>\n",
       "    <tr>\n",
       "      <th>2020-01-01</th>\n",
       "      <td>116.0371</td>\n",
       "    </tr>\n",
       "    <tr>\n",
       "      <th>2020-02-01</th>\n",
       "      <td>109.6575</td>\n",
       "    </tr>\n",
       "    <tr>\n",
       "      <th>2020-03-01</th>\n",
       "      <td>97.8948</td>\n",
       "    </tr>\n",
       "    <tr>\n",
       "      <th>2020-04-01</th>\n",
       "      <td>84.8492</td>\n",
       "    </tr>\n",
       "    <tr>\n",
       "      <th>2020-05-01</th>\n",
       "      <td>84.3806</td>\n",
       "    </tr>\n",
       "  </tbody>\n",
       "</table>\n",
       "</div>"
      ],
      "text/plain": [
       "            IPG2211A2N\n",
       "DATE                  \n",
       "2019-06-01     98.4548\n",
       "2019-07-01    113.0791\n",
       "2019-08-01    111.2697\n",
       "2019-09-01    102.0185\n",
       "2019-10-01     93.9518\n",
       "2019-11-01    102.1902\n",
       "2019-12-01    113.0698\n",
       "2020-01-01    116.0371\n",
       "2020-02-01    109.6575\n",
       "2020-03-01     97.8948\n",
       "2020-04-01     84.8492\n",
       "2020-05-01     84.3806"
      ]
     },
     "execution_count": 3,
     "metadata": {},
     "output_type": "execute_result"
    }
   ],
   "source": [
    "df.tail(12)"
   ]
  },
  {
   "cell_type": "code",
   "execution_count": 4,
   "metadata": {},
   "outputs": [
    {
     "data": {
      "text/html": [
       "<div>\n",
       "<style scoped>\n",
       "    .dataframe tbody tr th:only-of-type {\n",
       "        vertical-align: middle;\n",
       "    }\n",
       "\n",
       "    .dataframe tbody tr th {\n",
       "        vertical-align: top;\n",
       "    }\n",
       "\n",
       "    .dataframe thead th {\n",
       "        text-align: right;\n",
       "    }\n",
       "</style>\n",
       "<table border=\"1\" class=\"dataframe\">\n",
       "  <thead>\n",
       "    <tr style=\"text-align: right;\">\n",
       "      <th></th>\n",
       "      <th>IPG2211A2N</th>\n",
       "    </tr>\n",
       "    <tr>\n",
       "      <th>DATE</th>\n",
       "      <th></th>\n",
       "    </tr>\n",
       "  </thead>\n",
       "  <tbody>\n",
       "    <tr>\n",
       "      <th>2019-08-01</th>\n",
       "      <td>111.2697</td>\n",
       "    </tr>\n",
       "    <tr>\n",
       "      <th>2019-09-01</th>\n",
       "      <td>102.0185</td>\n",
       "    </tr>\n",
       "    <tr>\n",
       "      <th>2019-10-01</th>\n",
       "      <td>93.9518</td>\n",
       "    </tr>\n",
       "    <tr>\n",
       "      <th>2019-11-01</th>\n",
       "      <td>102.1902</td>\n",
       "    </tr>\n",
       "    <tr>\n",
       "      <th>2019-12-01</th>\n",
       "      <td>113.0698</td>\n",
       "    </tr>\n",
       "  </tbody>\n",
       "</table>\n",
       "</div>"
      ],
      "text/plain": [
       "            IPG2211A2N\n",
       "DATE                  \n",
       "2019-08-01    111.2697\n",
       "2019-09-01    102.0185\n",
       "2019-10-01     93.9518\n",
       "2019-11-01    102.1902\n",
       "2019-12-01    113.0698"
      ]
     },
     "execution_count": 4,
     "metadata": {},
     "output_type": "execute_result"
    }
   ],
   "source": [
    "df = df.iloc[:-5]\n",
    "df.tail()"
   ]
  },
  {
   "cell_type": "code",
   "execution_count": 37,
   "metadata": {},
   "outputs": [
    {
     "data": {
      "text/plain": [
       "972"
      ]
     },
     "execution_count": 37,
     "metadata": {},
     "output_type": "execute_result"
    }
   ],
   "source": [
    "len(df)"
   ]
  },
  {
   "cell_type": "code",
   "execution_count": 5,
   "metadata": {},
   "outputs": [
    {
     "name": "stdout",
     "output_type": "stream",
     "text": [
      "<class 'pandas.core.frame.DataFrame'>\n",
      "DatetimeIndex: 972 entries, 1939-01-01 to 2019-12-01\n",
      "Data columns (total 1 columns):\n",
      "IPG2211A2N    972 non-null float64\n",
      "dtypes: float64(1)\n",
      "memory usage: 15.2 KB\n"
     ]
    }
   ],
   "source": [
    "df.info()"
   ]
  },
  {
   "cell_type": "markdown",
   "metadata": {},
   "source": [
    "No null values"
   ]
  },
  {
   "cell_type": "code",
   "execution_count": 6,
   "metadata": {},
   "outputs": [
    {
     "data": {
      "image/png": "[encoded data removed]",
      "text/plain": [
       "<Figure size 864x288 with 1 Axes>"
      ]
     },
     "metadata": {
      "needs_background": "light"
     },
     "output_type": "display_data"
    }
   ],
   "source": [
    "# RUN THIS CELL\n",
    "plt.figure(figsize=(12,4))\n",
    "plt.title('Industrial Production Index for Electricity and Gas Utilities')\n",
    "plt.ylabel('Index 2012=100, Not Seasonally Adjusted')\n",
    "plt.grid(True)\n",
    "plt.autoscale(axis='x',tight=True)\n",
    "plt.plot(df['IPG2211A2N'])\n",
    "plt.show()"
   ]
  },
  {
   "cell_type": "markdown",
   "metadata": {},
   "source": [
    "# Prepare the data\n",
    "For the first set of exercises we'll\n",
    "* divide the data into train and test sets\n",
    "* normalize the training set\n",
    "* prepare windowed seq/label tuples for an LSTM model"
   ]
  },
  {
   "cell_type": "markdown",
   "metadata": {},
   "source": [
    "## 1. Divide the data into train and test sets\n",
    "Working with a window_size of 12, divide the dataset into a sequence of 313 training records (including the window), and a test set of 12 records."
   ]
  },
  {
   "cell_type": "code",
   "execution_count": 7,
   "metadata": {},
   "outputs": [],
   "source": [
    "# CODE HERE\n",
    "y = df['IPG2211A2N'].values.astype(float)\n",
    "\n",
    "test_size = 12\n",
    "window_size = 12\n",
    "\n",
    "train_set = y[:-test_size]\n",
    "test_set = y[-test_size:]"
   ]
  },
  {
   "cell_type": "code",
   "execution_count": 8,
   "metadata": {},
   "outputs": [
    {
     "name": "stdout",
     "output_type": "stream",
     "text": [
      "Train: 960\n",
      "Test:  12\n"
     ]
    }
   ],
   "source": [
    "# Run the code below to check your results:\n",
    "print(f'Train: {len(train_set)}')\n",
    "print(f'Test:  {len(test_set)}')"
   ]
  },
  {
   "cell_type": "markdown",
   "metadata": {},
   "source": [
    "## 2. Normalize the training set\n",
    "Feature scale the training set to fit within the range [-1,1]."
   ]
  },
  {
   "cell_type": "code",
   "execution_count": 9,
   "metadata": {},
   "outputs": [],
   "source": [
    "scaler = MinMaxScaler(feature_range=(-1, 1))\n",
    "\n",
    "train_norm = scaler.fit_transform(train_set.reshape(-1, 1))"
   ]
  },
  {
   "cell_type": "code",
   "execution_count": 10,
   "metadata": {},
   "outputs": [
    {
     "name": "stdout",
     "output_type": "stream",
     "text": [
      "First item, original: 3.3842\n",
      "First item, scaled:  [-1.]\n"
     ]
    }
   ],
   "source": [
    "# Run the code below to check your results:\n",
    "print(f'First item, original: {train_set[0]}')\n",
    "print(f'First item, scaled:  {train_norm[0]}')"
   ]
  },
  {
   "cell_type": "markdown",
   "metadata": {},
   "source": [
    "## 3. Prepare data for LSTM\n",
    "Prepare the list of windowed sequence/label tuples to be fed into an LSTM model."
   ]
  },
  {
   "cell_type": "code",
   "execution_count": 11,
   "metadata": {},
   "outputs": [],
   "source": [
    "# RUN THIS CELL\n",
    "train_norm = torch.FloatTensor(train_norm).view(-1)\n",
    "\n",
    "def input_data(seq,ws):\n",
    "    out = []\n",
    "    L = len(seq)\n",
    "    for i in range(L-ws):\n",
    "        window = seq[i:i+ws]\n",
    "        label = seq[i+ws:i+ws+1]\n",
    "        out.append((window,label))\n",
    "    return out"
   ]
  },
  {
   "cell_type": "code",
   "execution_count": 12,
   "metadata": {},
   "outputs": [],
   "source": [
    "# CODE HERE\n",
    "\n",
    "train_data = input_data(seq=train_norm, ws=window_size)"
   ]
  },
  {
   "cell_type": "code",
   "execution_count": 13,
   "metadata": {},
   "outputs": [
    {
     "name": "stdout",
     "output_type": "stream",
     "text": [
      "Train_data: 948\n"
     ]
    }
   ],
   "source": [
    "# Run the code below to check your results:\n",
    "print(f'Train_data: {len(train_data)}')  # should equal 301"
   ]
  },
  {
   "cell_type": "markdown",
   "metadata": {},
   "source": [
    "## 4. Define the model\n",
    "Design a model that has a (1,100) LSTM layer and a (100,1) fully-connected linear layer. Be sure to initialize $h_0$ and $c_0$, and return only the last predicted value."
   ]
  },
  {
   "cell_type": "markdown",
   "metadata": {},
   "source": [
    "I picked 100 neurons instead of suggested 64 because I have a lot more data than the version of dataset used in the excercise"
   ]
  },
  {
   "cell_type": "code",
   "execution_count": 14,
   "metadata": {},
   "outputs": [],
   "source": [
    "class LSTMnetwork(nn.Module):\n",
    "    def __init__(self,input_size=1,hidden_size=100,output_size=1):\n",
    "        super().__init__()\n",
    "        self.hidden_size = hidden_size\n",
    "        \n",
    "        # Add an LSTM layer:\n",
    "        self.lstm = nn.LSTM(input_size,hidden_size)\n",
    "        \n",
    "        # Add a fully-connected layer:\n",
    "        self.linear = nn.Linear(hidden_size,output_size)\n",
    "        \n",
    "        # Initialize h0 and c0:\n",
    "        self.hidden = (torch.zeros(1,1,self.hidden_size),\n",
    "                       torch.zeros(1,1,self.hidden_size))\n",
    "\n",
    "    def forward(self,seq):\n",
    "        \n",
    "        # seq.view(len(seq), 1, -1) is the input\n",
    "        # It's an array of 12 items since window size is 12\n",
    "        # The .view is to reshape the input so it lines up correctly going into the LSTM model\n",
    "        # self.hidden is the tuple (h_0, c_0)\n",
    "        # lstm_out is the output that'll be fed to the linear layer\n",
    "        # self.hidden is an updated tuple holding (h_n, c_n) where h_n, c_n are calculated values. Check notebook 81 for formula\n",
    "        \n",
    "        lstm_out, self.hidden = self.lstm(seq.view(len(seq),1,-1), self.hidden)\n",
    "        \n",
    "        # Here just feed the lstm_out (array of size 100) to get prediction for the prediction\n",
    "        # pred will be a tensor of size 12\n",
    "        # Reshape lstm_out before passing to linear layer \n",
    "        pred = self.linear(lstm_out.view(len(seq),-1))\n",
    "        return pred[-1]  # we only care about the last prediction, which is the 13th value for the previous 12 data"
   ]
  },
  {
   "cell_type": "code",
   "execution_count": 15,
   "metadata": {},
   "outputs": [
    {
     "data": {
      "text/plain": [
       "LSTMnetwork(\n",
       "  (lstm): LSTM(1, 100)\n",
       "  (linear): Linear(in_features=100, out_features=1, bias=True)\n",
       ")"
      ]
     },
     "execution_count": 15,
     "metadata": {},
     "output_type": "execute_result"
    }
   ],
   "source": [
    "# Run the code below to check your results:\n",
    "torch.manual_seed(101)\n",
    "model = LSTMnetwork()\n",
    "model"
   ]
  },
  {
   "cell_type": "markdown",
   "metadata": {},
   "source": [
    "## 5. Define loss and optimization functions\n",
    "Define a loss function called \"criterion\" and an optimizer called \"optimizer\".<br>\n",
    "You can use any functions you want, although we used MSELoss and Adam (learning rate of 0.001) respectively."
   ]
  },
  {
   "cell_type": "code",
   "execution_count": 16,
   "metadata": {},
   "outputs": [],
   "source": [
    "criterion = nn.MSELoss()\n",
    "optimizer = torch.optim.Adam(model.parameters(), lr=0.001)"
   ]
  },
  {
   "cell_type": "markdown",
   "metadata": {},
   "source": [
    "### 6. Train the model\n",
    "Don't worry about tracking loss values, displaying results, or validating the test set. Just train the model through 50 epochs. We'll evaluate the trained model in the next step.<br>\n",
    "OPTIONAL: print something after each epoch to indicate training progress."
   ]
  },
  {
   "cell_type": "code",
   "execution_count": 17,
   "metadata": {},
   "outputs": [
    {
     "name": "stdout",
     "output_type": "stream",
     "text": [
      "Epoch:  1 Loss: 0.01302989\n",
      "Epoch:  2 Loss: 0.01209039\n",
      "Epoch:  3 Loss: 0.00287930\n",
      "Epoch:  4 Loss: 0.00028396\n",
      "Epoch:  5 Loss: 0.00010779\n",
      "Epoch:  6 Loss: 0.00022384\n",
      "Epoch:  7 Loss: 0.00028572\n",
      "Epoch:  8 Loss: 0.00018801\n",
      "Epoch:  9 Loss: 0.00001561\n",
      "Epoch: 10 Loss: 0.00001920\n",
      "Epoch: 11 Loss: 0.00006388\n",
      "Epoch: 12 Loss: 0.00013641\n",
      "Epoch: 13 Loss: 0.00012190\n",
      "Epoch: 14 Loss: 0.00015379\n",
      "Epoch: 15 Loss: 0.00018206\n",
      "Epoch: 16 Loss: 0.00025838\n",
      "Epoch: 17 Loss: 0.00036798\n",
      "Epoch: 18 Loss: 0.00055872\n",
      "Epoch: 19 Loss: 0.00067080\n",
      "Epoch: 20 Loss: 0.00082580\n",
      "Epoch: 21 Loss: 0.00091989\n",
      "Epoch: 22 Loss: 0.00104358\n",
      "Epoch: 23 Loss: 0.00116962\n",
      "Epoch: 24 Loss: 0.00132400\n",
      "Epoch: 25 Loss: 0.00150546\n",
      "Epoch: 26 Loss: 0.00179955\n",
      "Epoch: 27 Loss: 0.00203295\n",
      "Epoch: 28 Loss: 0.00234284\n",
      "Epoch: 29 Loss: 0.00255682\n",
      "Epoch: 30 Loss: 0.00250096\n",
      "Epoch: 31 Loss: 0.00234718\n",
      "Epoch: 32 Loss: 0.00223648\n",
      "Epoch: 33 Loss: 0.00201802\n",
      "Epoch: 34 Loss: 0.00205274\n",
      "Epoch: 35 Loss: 0.00204218\n",
      "Epoch: 36 Loss: 0.00223144\n",
      "Epoch: 37 Loss: 0.00243767\n",
      "Epoch: 38 Loss: 0.00273526\n",
      "Epoch: 39 Loss: 0.00304307\n",
      "Epoch: 40 Loss: 0.00336974\n",
      "Epoch: 41 Loss: 0.00367056\n",
      "Epoch: 42 Loss: 0.00395365\n",
      "Epoch: 43 Loss: 0.00421498\n",
      "Epoch: 44 Loss: 0.00446296\n",
      "Epoch: 45 Loss: 0.00470078\n",
      "Epoch: 46 Loss: 0.00492732\n",
      "Epoch: 47 Loss: 0.00514337\n",
      "Epoch: 48 Loss: 0.00535068\n",
      "Epoch: 49 Loss: 0.00555130\n",
      "Epoch: 50 Loss: 0.00574629\n",
      "Epoch: 51 Loss: 0.00593419\n",
      "Epoch: 52 Loss: 0.00611102\n",
      "Epoch: 53 Loss: 0.00627229\n",
      "Epoch: 54 Loss: 0.00641549\n",
      "Epoch: 55 Loss: 0.00652413\n",
      "Epoch: 56 Loss: 0.00659777\n",
      "Epoch: 57 Loss: 0.00656630\n",
      "Epoch: 58 Loss: 0.00647999\n",
      "Epoch: 59 Loss: 0.00641720\n",
      "Epoch: 60 Loss: 0.00615069\n",
      "Epoch: 61 Loss: 0.00590107\n",
      "Epoch: 62 Loss: 0.00543502\n",
      "Epoch: 63 Loss: 0.00474121\n",
      "Epoch: 64 Loss: 0.00409244\n",
      "Epoch: 65 Loss: 0.00325076\n",
      "Epoch: 66 Loss: 0.00235481\n",
      "Epoch: 67 Loss: 0.00139185\n",
      "Epoch: 68 Loss: 0.00070129\n",
      "Epoch: 69 Loss: 0.00007192\n",
      "Epoch: 70 Loss: 0.00012511\n",
      "Epoch: 71 Loss: 0.00023659\n",
      "Epoch: 72 Loss: 0.00010563\n",
      "Epoch: 73 Loss: 0.00000111\n",
      "Epoch: 74 Loss: 0.00000364\n",
      "Epoch: 75 Loss: 0.00000043\n",
      "Epoch: 76 Loss: 0.00005910\n",
      "Epoch: 77 Loss: 0.00002883\n",
      "Epoch: 78 Loss: 0.00032330\n",
      "Epoch: 79 Loss: 0.00025206\n",
      "Epoch: 80 Loss: 0.00042053\n",
      "Epoch: 81 Loss: 0.00054749\n",
      "Epoch: 82 Loss: 0.00089824\n",
      "Epoch: 83 Loss: 0.00178800\n",
      "Epoch: 84 Loss: 0.00370387\n",
      "Epoch: 85 Loss: 0.00444395\n",
      "Epoch: 86 Loss: 0.00224647\n",
      "Epoch: 87 Loss: 0.00095094\n",
      "Epoch: 88 Loss: 0.00045461\n",
      "Epoch: 89 Loss: 0.00038824\n",
      "Epoch: 90 Loss: 0.00366714\n",
      "Epoch: 91 Loss: 0.00028135\n",
      "Epoch: 92 Loss: 0.00150906\n",
      "Epoch: 93 Loss: 0.00001718\n",
      "Epoch: 94 Loss: 0.01661619\n",
      "Epoch: 95 Loss: 0.00074253\n",
      "Epoch: 96 Loss: 0.00019663\n",
      "Epoch: 97 Loss: 0.00138098\n",
      "Epoch: 98 Loss: 0.00648134\n",
      "Epoch: 99 Loss: 0.00014605\n",
      "Epoch: 100 Loss: 0.00027409\n",
      "\n",
      "Duration: 1097 seconds\n"
     ]
    }
   ],
   "source": [
    "epochs = 100\n",
    "\n",
    "import time\n",
    "start_time = time.time()\n",
    "\n",
    "for epoch in range(epochs):\n",
    "    \n",
    "\n",
    "    # tuple-unpack the train_data set\n",
    "    # Seq is 12 y-values from train_data\n",
    "    # y_train is the 13th value\n",
    "    for seq, y_train in train_data:\n",
    "        \n",
    "        # reset the parameters and hidden states\n",
    "        optimizer.zero_grad()\n",
    "        model.hidden = (torch.zeros(1,1,model.hidden_size),\n",
    "                        torch.zeros(1,1,model.hidden_size))\n",
    "        \n",
    "        y_pred = model(seq)\n",
    "        \n",
    "        loss = criterion(y_pred, y_train)\n",
    "        loss.backward()\n",
    "        optimizer.step()\n",
    "        \n",
    "    # print training result\n",
    "    print(f'Epoch: {epoch+1:2} Loss: {loss.item():10.8f}')\n",
    "    \n",
    "print(f'\\nDuration: {time.time() - start_time:.0f} seconds')"
   ]
  },
  {
   "cell_type": "markdown",
   "metadata": {},
   "source": [
    "### 7. Evaluate the model using the test set\n",
    "Be sure to re-initialize the hidden parameters $h_0$ and $c_0$ before running the model."
   ]
  },
  {
   "cell_type": "code",
   "execution_count": 18,
   "metadata": {},
   "outputs": [],
   "source": [
    "future = 12\n",
    "\n",
    "# Add the last window of training values to the list of predictions\n",
    "# From there we predict the 13th value so let's say\n",
    "# last window of training set: [100-112], predict 113th value\n",
    "# next window: [101-113], predict 114th value and so on....\n",
    "\n",
    "preds = train_norm[-window_size:].tolist()\n",
    "\n",
    "# Set the model to evaluation mode\n",
    "model.eval()\n",
    "\n",
    "for i in range(future):\n",
    "    seq = torch.FloatTensor(preds[-window_size:])\n",
    "    with torch.no_grad():\n",
    "        model.hidden = (torch.zeros(1,1,model.hidden_size),\n",
    "                        torch.zeros(1,1,model.hidden_size))\n",
    "        preds.append(model(seq).item())"
   ]
  },
  {
   "cell_type": "code",
   "execution_count": 35,
   "metadata": {},
   "outputs": [
    {
     "data": {
      "text/plain": [
       "tensor([1.0000, 0.6616, 0.6123, 0.4350, 0.4317, 0.5921, 0.7516, 0.7509, 0.5644,\n",
       "        0.4648, 0.5964, 0.7457])"
      ]
     },
     "execution_count": 35,
     "metadata": {},
     "output_type": "execute_result"
    }
   ],
   "source": [
    "train_norm[-window_size:]"
   ]
  },
  {
   "cell_type": "code",
   "execution_count": 39,
   "metadata": {},
   "outputs": [
    {
     "data": {
      "text/plain": [
       "[1.0,\n",
       " 0.6616394519805908,\n",
       " 0.6122540235519409,\n",
       " 0.4350353479385376,\n",
       " 0.43171167373657227,\n",
       " 0.592125415802002,\n",
       " 0.751610279083252,\n",
       " 0.7509410381317139,\n",
       " 0.5643583536148071,\n",
       " 0.4648498296737671,\n",
       " 0.5963748693466187,\n",
       " 0.7457467913627625]"
      ]
     },
     "execution_count": 39,
     "metadata": {},
     "output_type": "execute_result"
    }
   ],
   "source": [
    "preds[:12]"
   ]
  },
  {
   "cell_type": "code",
   "execution_count": 36,
   "metadata": {},
   "outputs": [
    {
     "data": {
      "text/plain": [
       "tensor([-1.0000e+00, -9.9959e-01, -9.9835e-01, -9.9794e-01, -9.9794e-01,\n",
       "        -9.9712e-01, -9.9712e-01, -9.9630e-01, -9.9465e-01, -9.9465e-01,\n",
       "        -9.9424e-01, -9.9424e-01, -9.9383e-01, -9.9300e-01, -9.9259e-01,\n",
       "        -9.9259e-01, -9.9218e-01, -9.9136e-01, -9.9136e-01, -9.9053e-01,\n",
       "        -9.8971e-01, -9.8930e-01, -9.8765e-01, -9.8765e-01, -9.8724e-01,\n",
       "        -9.8642e-01, -9.8559e-01, -9.8477e-01, -9.8436e-01, -9.8312e-01,\n",
       "        -9.8230e-01, -9.8148e-01, -9.8107e-01, -9.8066e-01, -9.7983e-01,\n",
       "        -9.7819e-01, -9.7736e-01, -9.7654e-01, -9.7613e-01, -9.7613e-01,\n",
       "        -9.7613e-01, -9.7571e-01, -9.7324e-01, -9.7283e-01, -9.7242e-01,\n",
       "        -9.7242e-01, -9.7119e-01, -9.6995e-01, -9.7078e-01, -9.6954e-01,\n",
       "        -9.6913e-01, -9.6789e-01, -9.6748e-01, -9.6584e-01, -9.6501e-01,\n",
       "        -9.6460e-01, -9.6295e-01, -9.6295e-01, -9.6172e-01, -9.6172e-01,\n",
       "        -9.6254e-01, -9.6131e-01, -9.5966e-01, -9.5925e-01, -9.5925e-01,\n",
       "        -9.5925e-01, -9.6007e-01, -9.5966e-01, -9.6007e-01, -9.6090e-01,\n",
       "        -9.6007e-01, -9.5966e-01, -9.5802e-01, -9.5802e-01, -9.5843e-01,\n",
       "        -9.5843e-01, -9.5760e-01, -9.5637e-01, -9.5678e-01, -9.5843e-01,\n",
       "        -9.6007e-01, -9.6090e-01, -9.6007e-01, -9.5925e-01, -9.5925e-01,\n",
       "        -9.5925e-01, -9.5925e-01, -9.5760e-01, -9.5678e-01, -9.5637e-01,\n",
       "        -9.5431e-01, -9.5267e-01, -9.5143e-01, -9.5020e-01, -9.4978e-01,\n",
       "        -9.4937e-01, -9.4649e-01, -9.4855e-01, -9.4937e-01, -9.4937e-01,\n",
       "        -9.4978e-01, -9.4978e-01, -9.4978e-01, -9.4690e-01, -9.4484e-01,\n",
       "        -9.4443e-01, -9.4320e-01, -9.3785e-01, -9.3208e-01, -9.3496e-01,\n",
       "        -9.3455e-01, -9.3702e-01, -9.3949e-01, -9.3867e-01, -9.3785e-01,\n",
       "        -9.3496e-01, -9.3291e-01, -9.3167e-01, -9.3003e-01, -9.2509e-01,\n",
       "        -9.2221e-01, -9.2509e-01, -9.2673e-01, -9.2961e-01, -9.3208e-01,\n",
       "        -9.3126e-01, -9.2961e-01, -9.2673e-01, -9.2550e-01, -9.2632e-01,\n",
       "        -9.2303e-01, -9.1562e-01, -9.0903e-01, -9.1233e-01, -9.1150e-01,\n",
       "        -9.1315e-01, -9.1356e-01, -9.1233e-01, -9.1192e-01, -9.0862e-01,\n",
       "        -9.0656e-01, -9.0409e-01, -9.0204e-01, -8.9669e-01, -8.8763e-01,\n",
       "        -8.9010e-01, -8.9010e-01, -8.9051e-01, -8.9380e-01, -8.9175e-01,\n",
       "        -8.9092e-01, -8.8722e-01, -8.8557e-01, -8.8681e-01, -8.8351e-01,\n",
       "        -8.7858e-01, -8.6993e-01, -8.7405e-01, -8.7528e-01, -8.7981e-01,\n",
       "        -8.8310e-01, -8.8187e-01, -8.7899e-01, -8.7322e-01, -8.6993e-01,\n",
       "        -8.7034e-01, -8.6870e-01, -8.6211e-01, -8.5552e-01, -8.6170e-01,\n",
       "        -8.6046e-01, -8.6170e-01, -8.6417e-01, -8.6170e-01, -8.5882e-01,\n",
       "        -8.5594e-01, -8.5594e-01, -8.5758e-01, -8.5882e-01, -8.5223e-01,\n",
       "        -8.4112e-01, -8.4688e-01, -8.4770e-01, -8.5017e-01, -8.5429e-01,\n",
       "        -8.5100e-01, -8.4565e-01, -8.4029e-01, -8.3947e-01, -8.4112e-01,\n",
       "        -8.4029e-01, -8.2959e-01, -8.2301e-01, -8.2383e-01, -8.2383e-01,\n",
       "        -8.2630e-01, -8.3083e-01, -8.2877e-01, -8.2301e-01, -8.1148e-01,\n",
       "        -8.0984e-01, -8.1436e-01, -8.1313e-01, -8.0078e-01, -7.9172e-01,\n",
       "        -7.9502e-01, -7.9749e-01, -8.0078e-01, -8.0325e-01, -8.0160e-01,\n",
       "        -7.9790e-01, -7.9172e-01, -7.9337e-01, -7.9790e-01, -7.9790e-01,\n",
       "        -7.8637e-01, -7.7444e-01, -7.7814e-01, -7.8185e-01, -7.8637e-01,\n",
       "        -7.9090e-01, -7.8761e-01, -7.7691e-01, -7.6826e-01, -7.7238e-01,\n",
       "        -7.8020e-01, -7.7938e-01, -7.6909e-01, -7.5921e-01, -7.6415e-01,\n",
       "        -7.6785e-01, -7.7773e-01, -7.8308e-01, -7.7608e-01, -7.6826e-01,\n",
       "        -7.5674e-01, -7.5591e-01, -7.6497e-01, -7.6620e-01, -7.5097e-01,\n",
       "        -7.3492e-01, -7.4027e-01, -7.4192e-01, -7.4933e-01, -7.5139e-01,\n",
       "        -7.4192e-01, -7.3369e-01, -7.2710e-01, -7.2381e-01, -7.3863e-01,\n",
       "        -7.3945e-01, -7.2134e-01, -7.0734e-01, -7.1228e-01, -7.1064e-01,\n",
       "        -7.2216e-01, -7.3204e-01, -7.2381e-01, -7.1558e-01, -7.0240e-01,\n",
       "        -7.0199e-01, -7.1846e-01, -7.2216e-01, -7.0981e-01, -6.9335e-01,\n",
       "        -7.0076e-01, -7.0570e-01, -7.1146e-01, -7.1146e-01, -7.0405e-01,\n",
       "        -6.9582e-01, -6.7894e-01, -6.7688e-01, -6.9170e-01, -6.9705e-01,\n",
       "        -6.8223e-01, -6.6001e-01, -6.7030e-01, -6.7277e-01, -6.8676e-01,\n",
       "        -6.8841e-01, -6.7606e-01, -6.6454e-01, -6.5383e-01, -6.5383e-01,\n",
       "        -6.7030e-01, -6.7277e-01, -6.5836e-01, -6.3531e-01, -6.4025e-01,\n",
       "        -6.4807e-01, -6.6330e-01, -6.6330e-01, -6.5054e-01, -6.3243e-01,\n",
       "        -6.1885e-01, -6.2502e-01, -6.4684e-01, -6.5178e-01, -6.3202e-01,\n",
       "        -6.0444e-01, -6.1802e-01, -6.1926e-01, -6.2626e-01, -6.2955e-01,\n",
       "        -6.1555e-01, -5.8756e-01, -5.7480e-01, -5.8509e-01, -6.0938e-01,\n",
       "        -6.1926e-01, -5.9497e-01, -5.7686e-01, -5.8756e-01, -5.8674e-01,\n",
       "        -5.9744e-01, -6.0526e-01, -5.8921e-01, -5.6822e-01, -5.5175e-01,\n",
       "        -5.5422e-01, -5.7851e-01, -5.9127e-01, -5.6781e-01, -5.4805e-01,\n",
       "        -5.4887e-01, -5.5587e-01, -5.7151e-01, -5.7522e-01, -5.5669e-01,\n",
       "        -5.1430e-01, -4.9824e-01, -5.1471e-01, -5.4846e-01, -5.5505e-01,\n",
       "        -5.3241e-01, -5.0386e-01, -5.1303e-01, -5.2981e-01, -5.3391e-01,\n",
       "        -5.5102e-01, -5.2902e-01, -5.1171e-01, -5.0552e-01, -5.2199e-01,\n",
       "        -5.2304e-01, -5.1475e-01, -4.8235e-01, -4.6102e-01, -4.7574e-01,\n",
       "        -4.8041e-01, -5.0668e-01, -5.1276e-01, -4.7834e-01, -4.6794e-01,\n",
       "        -4.4685e-01, -4.6027e-01, -4.8857e-01, -4.7839e-01, -4.3664e-01,\n",
       "        -4.1397e-01, -4.2070e-01, -4.3238e-01, -4.6193e-01, -4.7479e-01,\n",
       "        -4.3305e-01, -4.0281e-01, -3.8108e-01, -4.1040e-01, -4.3673e-01,\n",
       "        -4.2010e-01, -3.9744e-01, -3.6740e-01, -3.7583e-01, -3.9075e-01,\n",
       "        -4.1343e-01, -4.1767e-01, -3.9771e-01, -3.6523e-01, -3.3989e-01,\n",
       "        -3.5922e-01, -4.0788e-01, -4.0163e-01, -3.8294e-01, -3.3769e-01,\n",
       "        -3.4697e-01, -3.7269e-01, -3.9391e-01, -4.0337e-01, -3.6004e-01,\n",
       "        -3.3393e-01, -3.1925e-01, -3.2887e-01, -3.5366e-01, -3.5281e-01,\n",
       "        -3.2727e-01, -2.7575e-01, -2.5695e-01, -2.9164e-01, -3.4469e-01,\n",
       "        -3.8303e-01, -3.5570e-01, -3.3061e-01, -2.8929e-01, -3.0777e-01,\n",
       "        -3.4189e-01, -3.0190e-01, -2.2258e-01, -1.6270e-01, -1.9356e-01,\n",
       "        -2.4913e-01, -3.0794e-01, -3.3805e-01, -2.9774e-01, -2.6814e-01,\n",
       "        -2.3987e-01, -2.5594e-01, -3.0379e-01, -2.9099e-01, -2.6049e-01,\n",
       "        -1.9637e-01, -2.3086e-01, -2.6046e-01, -3.0773e-01, -3.3029e-01,\n",
       "        -3.0332e-01, -2.4601e-01, -2.2958e-01, -2.7838e-01, -3.0319e-01,\n",
       "        -2.9308e-01, -2.1044e-01, -1.6645e-01, -1.8696e-01, -2.2316e-01,\n",
       "        -2.6782e-01, -3.1929e-01, -2.9905e-01, -2.4889e-01, -2.2127e-01,\n",
       "        -2.6630e-01, -3.0908e-01, -2.9234e-01, -1.8697e-01, -8.8168e-02,\n",
       "        -1.4678e-01, -2.1075e-01, -2.7767e-01, -3.1014e-01, -2.6923e-01,\n",
       "        -2.2504e-01, -2.0341e-01, -2.3971e-01, -2.7100e-01, -2.0535e-01,\n",
       "        -8.4844e-02, -6.2379e-04, -7.6326e-02, -1.7779e-01, -2.4911e-01,\n",
       "        -2.6815e-01, -2.2037e-01, -1.6548e-01, -1.6279e-01, -2.0586e-01,\n",
       "        -2.4543e-01, -2.2701e-01, -1.0455e-01, -1.0796e-02, -2.6807e-02,\n",
       "        -1.1812e-01, -2.3473e-01, -2.5739e-01, -2.0630e-01, -1.6937e-01,\n",
       "        -1.3754e-01, -1.7664e-01, -2.2221e-01, -1.9266e-01, -8.5850e-02,\n",
       "         4.0819e-02,  3.1477e-02, -7.6028e-02, -1.7325e-01, -2.3487e-01,\n",
       "        -2.0551e-01, -1.7055e-01, -1.3540e-01, -1.8982e-01, -2.1335e-01,\n",
       "        -1.8323e-01, -9.6528e-02, -1.2183e-02, -2.1885e-02, -8.3888e-02,\n",
       "        -2.0768e-01, -2.6045e-01, -2.1859e-01, -1.2142e-01, -9.1380e-02,\n",
       "        -1.3396e-01, -1.8135e-01, -1.5430e-01, -4.3089e-02,  4.9805e-02,\n",
       "        -4.0017e-02, -9.6284e-02, -1.9122e-01, -2.2143e-01, -1.5382e-01,\n",
       "        -8.8010e-02, -8.7555e-02, -1.5571e-01, -1.8262e-01, -1.6604e-01,\n",
       "        -4.3198e-02,  7.2131e-02, -2.9841e-02, -1.0149e-01, -1.9178e-01,\n",
       "        -2.5952e-01, -2.1413e-01, -1.5140e-01, -1.4266e-01, -1.9352e-01,\n",
       "        -2.3013e-01, -1.9248e-01, -1.1758e-01, -2.9134e-03, -1.1127e-01,\n",
       "        -1.4072e-01, -2.0990e-01, -2.7047e-01, -2.3000e-01, -1.3088e-01,\n",
       "        -7.2619e-02, -1.3285e-01, -1.9710e-01, -1.6487e-01, -8.2144e-03,\n",
       "         1.1350e-01,  1.7343e-03, -4.5658e-02, -1.3855e-01, -1.7520e-01,\n",
       "        -1.3095e-01, -8.7126e-02, -6.0324e-02, -1.2847e-01, -1.8203e-01,\n",
       "        -1.4306e-01, -4.4557e-02,  1.0412e-01,  7.4923e-02, -5.6230e-02,\n",
       "        -1.3599e-01, -1.7047e-01, -1.2624e-01, -5.3959e-02, -4.3873e-02,\n",
       "        -8.5960e-02, -1.5440e-01, -1.2758e-01,  4.3500e-02,  1.1711e-01,\n",
       "         3.2154e-02, -5.9803e-02, -1.4267e-01, -1.6229e-01, -9.7385e-02,\n",
       "        -3.7913e-03, -2.3910e-02, -7.9212e-02, -1.3460e-01, -1.0594e-01,\n",
       "         3.4807e-02,  1.2542e-01,  6.5460e-02, -5.5615e-03, -9.2776e-02,\n",
       "        -1.1346e-01, -3.3638e-02,  4.5929e-02,  6.5187e-02, -2.9428e-02,\n",
       "        -8.9314e-02, -5.6145e-02,  7.3635e-02,  2.2207e-01,  1.6280e-01,\n",
       "         6.9306e-02, -4.3359e-02, -7.2784e-02,  1.7980e-02,  1.1188e-01,\n",
       "         1.5618e-01,  2.5121e-02, -4.2804e-02, -1.3942e-02,  1.2593e-01,\n",
       "         1.9106e-01,  1.7055e-01,  1.1778e-01, -1.3990e-02, -3.6391e-02,\n",
       "         4.0041e-02,  1.2912e-01,  1.4539e-01,  5.3617e-02, -1.3328e-03,\n",
       "         4.9550e-02,  2.9092e-01,  2.9475e-01,  1.7967e-01,  1.1591e-01,\n",
       "         2.0999e-02, -2.0897e-03,  8.7758e-02,  1.7036e-01,  1.7815e-01,\n",
       "         1.1363e-01,  2.3550e-02,  4.1775e-02,  1.8757e-01,  3.2099e-01,\n",
       "         1.8574e-01,  1.1887e-01,  1.9267e-02,  4.5843e-02,  1.4242e-01,\n",
       "         2.2630e-01,  2.1127e-01,  1.2216e-01,  4.4797e-02,  1.0468e-01,\n",
       "         2.1659e-01,  3.0927e-01,  2.2740e-01,  1.3692e-01,  5.8811e-02,\n",
       "         1.9637e-02,  8.4033e-02,  1.8452e-01,  1.6943e-01,  1.0233e-01,\n",
       "         4.9244e-02,  1.2064e-01,  2.9694e-01,  3.5186e-01,  2.9710e-01,\n",
       "         2.1578e-01,  8.1697e-02,  2.8130e-02,  1.3391e-01,  2.5798e-01,\n",
       "         2.5724e-01,  1.3841e-01,  5.9434e-02,  1.3515e-01,  2.9192e-01,\n",
       "         4.5021e-01,  3.3874e-01,  2.1238e-01,  8.0241e-02,  5.4934e-02,\n",
       "         1.9205e-01,  2.7697e-01,  2.5472e-01,  1.5571e-01,  8.4997e-02,\n",
       "         1.4865e-01,  3.0164e-01,  4.2376e-01,  3.4291e-01,  2.4497e-01,\n",
       "         1.2587e-01,  1.1718e-01,  1.9765e-01,  3.2021e-01,  3.7699e-01,\n",
       "         2.0074e-01,  1.2412e-01,  2.1900e-01,  3.9750e-01,  5.2776e-01,\n",
       "         4.3057e-01,  3.3559e-01,  1.8046e-01,  1.7189e-01,  2.5573e-01,\n",
       "         3.2004e-01,  3.2948e-01,  2.1186e-01,  1.3966e-01,  2.4146e-01,\n",
       "         3.9208e-01,  5.1947e-01,  3.8085e-01,  2.7280e-01,  1.6306e-01,\n",
       "         1.2638e-01,  2.2097e-01,  3.5963e-01,  3.4899e-01,  2.5548e-01,\n",
       "         1.8452e-01,  2.5708e-01,  4.1772e-01,  4.6086e-01,  3.4955e-01,\n",
       "         3.2929e-01,  1.7267e-01,  1.9310e-01,  3.2770e-01,  4.4553e-01,\n",
       "         4.4055e-01,  3.4489e-01,  2.2600e-01,  2.4742e-01,  4.1123e-01,\n",
       "         5.7840e-01,  4.0346e-01,  3.9639e-01,  2.3269e-01,  2.1497e-01,\n",
       "         3.5013e-01,  5.0397e-01,  4.8686e-01,  3.4006e-01,  2.3452e-01,\n",
       "         2.5962e-01,  4.5616e-01,  5.7920e-01,  4.5213e-01,  3.5373e-01,\n",
       "         2.4729e-01,  2.9601e-01,  4.0126e-01,  4.8048e-01,  5.3421e-01,\n",
       "         3.9524e-01,  2.7457e-01,  3.5213e-01,  5.8228e-01,  6.8826e-01,\n",
       "         4.9791e-01,  4.2878e-01,  2.7067e-01,  2.6508e-01,  3.9067e-01,\n",
       "         4.8091e-01,  5.3644e-01,  3.5640e-01,  2.6696e-01,  2.7087e-01,\n",
       "         4.3233e-01,  5.9136e-01,  4.6706e-01,  4.3601e-01,  3.1717e-01,\n",
       "         3.0845e-01,  4.3562e-01,  5.8233e-01,  5.6988e-01,  4.3682e-01,\n",
       "         3.3434e-01,  3.6103e-01,  5.5605e-01,  7.0559e-01,  6.0447e-01,\n",
       "         4.5658e-01,  3.0539e-01,  3.1223e-01,  4.0190e-01,  5.7963e-01,\n",
       "         6.1544e-01,  4.3081e-01,  3.2835e-01,  3.6141e-01,  6.0022e-01,\n",
       "         7.6242e-01,  6.4199e-01,  4.7030e-01,  3.3204e-01,  3.6931e-01,\n",
       "         4.7266e-01,  5.7288e-01,  5.4737e-01,  4.4859e-01,  3.4460e-01,\n",
       "         3.7737e-01,  6.3467e-01,  7.2184e-01,  5.7048e-01,  5.2718e-01,\n",
       "         3.2717e-01,  3.3831e-01,  5.3524e-01,  6.7963e-01,  6.9859e-01,\n",
       "         5.3234e-01,  3.8278e-01,  3.9011e-01,  6.7481e-01,  6.1610e-01,\n",
       "         5.6540e-01,  5.1859e-01,  3.4349e-01,  3.8388e-01,  5.5190e-01,\n",
       "         7.2057e-01,  7.3045e-01,  4.7761e-01,  3.9102e-01,  4.2138e-01,\n",
       "         5.9304e-01,  7.3675e-01,  7.3268e-01,  5.3095e-01,  3.9673e-01,\n",
       "         4.1673e-01,  5.5955e-01,  6.6585e-01,  7.7050e-01,  5.6904e-01,\n",
       "         4.3237e-01,  4.4616e-01,  6.5160e-01,  7.8107e-01,  6.7515e-01,\n",
       "         5.5071e-01,  3.9935e-01,  4.0307e-01,  6.0594e-01,  7.1595e-01,\n",
       "         6.6520e-01,  5.0770e-01,  3.9983e-01,  4.4432e-01,  6.9330e-01,\n",
       "         8.1194e-01,  6.1364e-01,  5.0762e-01,  3.5334e-01,  3.4390e-01,\n",
       "         5.0043e-01,  6.0581e-01,  6.3509e-01,  4.6125e-01,  3.7022e-01,\n",
       "         3.7144e-01,  7.1273e-01,  8.4609e-01,  7.1074e-01,  5.1301e-01,\n",
       "         3.2051e-01,  3.9356e-01,  6.1075e-01,  7.4876e-01,  7.5061e-01,\n",
       "         5.4479e-01,  3.6519e-01,  4.2524e-01,  7.7103e-01,  8.5406e-01,\n",
       "         6.5886e-01,  5.2642e-01,  3.6983e-01,  3.8152e-01,  5.8605e-01,\n",
       "         7.7734e-01,  7.5874e-01,  5.3275e-01,  3.8524e-01,  4.3981e-01,\n",
       "         6.5622e-01,  7.2799e-01,  5.9268e-01,  4.3433e-01,  3.3951e-01,\n",
       "         4.2422e-01,  5.5924e-01,  7.5271e-01,  7.0141e-01,  4.9004e-01,\n",
       "         3.8424e-01,  4.4718e-01,  6.1940e-01,  7.8211e-01,  6.4220e-01,\n",
       "         5.8196e-01,  3.8986e-01,  3.9123e-01,  5.4998e-01,  7.0446e-01,\n",
       "         6.7362e-01,  5.2894e-01,  4.0664e-01,  4.9137e-01,  7.5207e-01,\n",
       "         9.2216e-01,  7.4144e-01,  6.0977e-01,  3.7692e-01,  4.0973e-01,\n",
       "         5.6558e-01,  6.7697e-01,  6.7308e-01,  5.4617e-01,  4.1412e-01,\n",
       "         5.2525e-01,  6.8247e-01,  8.5699e-01,  7.9657e-01,  6.0349e-01,\n",
       "         3.6661e-01,  3.9115e-01,  5.8540e-01,  7.3034e-01,  7.1092e-01,\n",
       "         5.6809e-01,  3.9583e-01,  4.1531e-01,  5.7641e-01,  8.0857e-01,\n",
       "         6.3440e-01,  4.4754e-01,  3.5079e-01,  3.7165e-01,  5.9400e-01,\n",
       "         7.6558e-01,  7.8640e-01,  5.7510e-01,  3.9362e-01,  4.2156e-01,\n",
       "         7.6283e-01,  8.0191e-01,  5.3207e-01,  5.5545e-01,  3.3288e-01,\n",
       "         3.8580e-01,  5.4644e-01,  7.1846e-01,  6.6303e-01,  4.9291e-01,\n",
       "         4.1676e-01,  5.0311e-01,  8.1407e-01,  1.0000e+00,  6.6164e-01,\n",
       "         6.1225e-01,  4.3504e-01,  4.3171e-01,  5.9213e-01,  7.5161e-01,\n",
       "         7.5094e-01,  5.6436e-01,  4.6485e-01,  5.9637e-01,  7.4575e-01])"
      ]
     },
     "execution_count": 36,
     "metadata": {},
     "output_type": "execute_result"
    }
   ],
   "source": [
    "train_norm"
   ]
  },
  {
   "cell_type": "code",
   "execution_count": 19,
   "metadata": {},
   "outputs": [
    {
     "data": {
      "text/plain": [
       "[0.8498290181159973,\n",
       " 0.5951324701309204,\n",
       " 0.48485666513442993,\n",
       " 0.4895767569541931,\n",
       " 0.607872724533081,\n",
       " 0.7684909105300903,\n",
       " 0.6623377799987793,\n",
       " 0.5329124927520752,\n",
       " 0.38662123680114746,\n",
       " 0.4716174602508545,\n",
       " 0.6738612651824951,\n",
       " 0.8038812279701233]"
      ]
     },
     "execution_count": 19,
     "metadata": {},
     "output_type": "execute_result"
    }
   ],
   "source": [
    "# Display predicted values\n",
    "preds[window_size:]    # equivalent to preds[-future:]"
   ]
  },
  {
   "cell_type": "code",
   "execution_count": null,
   "metadata": {},
   "outputs": [],
   "source": []
  },
  {
   "cell_type": "markdown",
   "metadata": {},
   "source": [
    "## 8. Inverse transform the predicted values\n",
    "Rescale the predicted values up to the original test set range."
   ]
  },
  {
   "cell_type": "code",
   "execution_count": 20,
   "metadata": {},
   "outputs": [
    {
     "data": {
      "text/plain": [
       "array([[119.48215143],\n",
       "       [103.49702677],\n",
       "       [ 96.57595735],\n",
       "       [ 96.87219715],\n",
       "       [104.29662361],\n",
       "       [114.37725386],\n",
       "       [107.71492946],\n",
       "       [ 99.59201077],\n",
       "       [ 90.41055942],\n",
       "       [ 95.74504565],\n",
       "       [108.4381601 ],\n",
       "       [116.5984015 ]])"
      ]
     },
     "execution_count": 20,
     "metadata": {},
     "output_type": "execute_result"
    }
   ],
   "source": [
    "true_predictions = scaler.inverse_transform(np.array(preds[window_size:]).reshape(-1, 1))\n",
    "true_predictions"
   ]
  },
  {
   "cell_type": "markdown",
   "metadata": {},
   "source": [
    "## BONUS EXERCISE: Plot the result\n",
    "Plot the true_predictions values together with the original data. Remember to create a range of datetime values for the predicted data."
   ]
  },
  {
   "cell_type": "code",
   "execution_count": 21,
   "metadata": {},
   "outputs": [
    {
     "data": {
      "text/html": [
       "<div>\n",
       "<style scoped>\n",
       "    .dataframe tbody tr th:only-of-type {\n",
       "        vertical-align: middle;\n",
       "    }\n",
       "\n",
       "    .dataframe tbody tr th {\n",
       "        vertical-align: top;\n",
       "    }\n",
       "\n",
       "    .dataframe thead th {\n",
       "        text-align: right;\n",
       "    }\n",
       "</style>\n",
       "<table border=\"1\" class=\"dataframe\">\n",
       "  <thead>\n",
       "    <tr style=\"text-align: right;\">\n",
       "      <th></th>\n",
       "      <th>IPG2211A2N</th>\n",
       "    </tr>\n",
       "    <tr>\n",
       "      <th>DATE</th>\n",
       "      <th></th>\n",
       "    </tr>\n",
       "  </thead>\n",
       "  <tbody>\n",
       "    <tr>\n",
       "      <th>2019-01-01</th>\n",
       "      <td>123.7687</td>\n",
       "    </tr>\n",
       "    <tr>\n",
       "      <th>2019-02-01</th>\n",
       "      <td>112.9837</td>\n",
       "    </tr>\n",
       "    <tr>\n",
       "      <th>2019-03-01</th>\n",
       "      <td>106.6593</td>\n",
       "    </tr>\n",
       "    <tr>\n",
       "      <th>2019-04-01</th>\n",
       "      <td>88.6631</td>\n",
       "    </tr>\n",
       "    <tr>\n",
       "      <th>2019-05-01</th>\n",
       "      <td>91.9852</td>\n",
       "    </tr>\n",
       "    <tr>\n",
       "      <th>2019-06-01</th>\n",
       "      <td>98.4548</td>\n",
       "    </tr>\n",
       "    <tr>\n",
       "      <th>2019-07-01</th>\n",
       "      <td>113.0791</td>\n",
       "    </tr>\n",
       "    <tr>\n",
       "      <th>2019-08-01</th>\n",
       "      <td>111.2697</td>\n",
       "    </tr>\n",
       "    <tr>\n",
       "      <th>2019-09-01</th>\n",
       "      <td>102.0185</td>\n",
       "    </tr>\n",
       "    <tr>\n",
       "      <th>2019-10-01</th>\n",
       "      <td>93.9518</td>\n",
       "    </tr>\n",
       "    <tr>\n",
       "      <th>2019-11-01</th>\n",
       "      <td>102.1902</td>\n",
       "    </tr>\n",
       "    <tr>\n",
       "      <th>2019-12-01</th>\n",
       "      <td>113.0698</td>\n",
       "    </tr>\n",
       "  </tbody>\n",
       "</table>\n",
       "</div>"
      ],
      "text/plain": [
       "            IPG2211A2N\n",
       "DATE                  \n",
       "2019-01-01    123.7687\n",
       "2019-02-01    112.9837\n",
       "2019-03-01    106.6593\n",
       "2019-04-01     88.6631\n",
       "2019-05-01     91.9852\n",
       "2019-06-01     98.4548\n",
       "2019-07-01    113.0791\n",
       "2019-08-01    111.2697\n",
       "2019-09-01    102.0185\n",
       "2019-10-01     93.9518\n",
       "2019-11-01    102.1902\n",
       "2019-12-01    113.0698"
      ]
     },
     "execution_count": 21,
     "metadata": {},
     "output_type": "execute_result"
    }
   ],
   "source": [
    "df.tail(12)"
   ]
  },
  {
   "cell_type": "code",
   "execution_count": 31,
   "metadata": {},
   "outputs": [
    {
     "data": {
      "text/plain": [
       "array(['2019-02-01', '2019-03-01', '2019-04-01', '2019-05-01',\n",
       "       '2019-06-01', '2019-07-01', '2019-08-01', '2019-09-01',\n",
       "       '2019-10-01', '2019-11-01', '2019-12-01', '2020-01-01'],\n",
       "      dtype='datetime64[D]')"
      ]
     },
     "execution_count": 31,
     "metadata": {},
     "output_type": "execute_result"
    }
   ],
   "source": [
    "# Remember that the stop date has to be later than the last predicted value.\n",
    "x = np.arange('2019-02-01', '2020-02-01', dtype='datetime64[M]').astype('datetime64[D]')\n",
    "x"
   ]
  },
  {
   "cell_type": "code",
   "execution_count": 32,
   "metadata": {},
   "outputs": [
    {
     "data": {
      "image/png": "[encoded data removed]",
      "text/plain": [
       "<Figure size 864x288 with 1 Axes>"
      ]
     },
     "metadata": {
      "needs_background": "light"
     },
     "output_type": "display_data"
    }
   ],
   "source": [
    "plt.figure(figsize=(12,4))\n",
    "plt.title('Industrial Production Index for Electricity and Gas Utilities')\n",
    "plt.ylabel('Index 2012=100, Not Seasonally Adjusted')\n",
    "plt.grid(True)\n",
    "plt.autoscale(axis='x',tight=True)\n",
    "plt.plot(df['IPG2211A2N'])\n",
    "plt.plot(x,true_predictions)\n",
    "plt.show()"
   ]
  },
  {
   "cell_type": "code",
   "execution_count": 40,
   "metadata": {},
   "outputs": [
    {
     "data": {
      "image/png": "[encoded data removed]",
      "text/plain": [
       "<Figure size 864x288 with 1 Axes>"
      ]
     },
     "metadata": {
      "needs_background": "light"
     },
     "output_type": "display_data"
    }
   ],
   "source": [
    "# Plot the end of the graph\n",
    "fig = plt.figure(figsize=(12,4))\n",
    "plt.title('Industrial Production Index for Electricity and Gas Utilities')\n",
    "plt.ylabel('Index 2012=100, Not Seasonally Adjusted')\n",
    "plt.grid(True)\n",
    "plt.autoscale(axis='x',tight=True)\n",
    "fig.autofmt_xdate()\n",
    "\n",
    "# Select the end of the graph with slice notation:\n",
    "plt.plot(df['IPG2211A2N']['2018-01-01':])\n",
    "plt.plot(x,true_predictions)\n",
    "plt.show()"
   ]
  },
  {
   "cell_type": "code",
   "execution_count": null,
   "metadata": {},
   "outputs": [],
   "source": []
  }
 ],
 "metadata": {
  "kernelspec": {
   "display_name": "Python 3",
   "language": "python",
   "name": "python3"
  },
  "language_info": {
   "codemirror_mode": {
    "name": "ipython",
    "version": 3
   },
   "file_extension": ".py",
   "mimetype": "text/x-python",
   "name": "python",
   "nbconvert_exporter": "python",
   "pygments_lexer": "ipython3",
   "version": "3.7.3"
  }
 },
 "nbformat": 4,
 "nbformat_minor": 4
}
